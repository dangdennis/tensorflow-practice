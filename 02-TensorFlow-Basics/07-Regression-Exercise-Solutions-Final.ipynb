{
 "cells": [
  {
   "cell_type": "markdown",
   "metadata": {},
   "source": [
    "# Regression Exercise - Solutions\n",
    "\n",
    "California Housing Data\n",
    "\n",
    "This data set contains information about all the block groups in California from the 1990 Census. In this sample a block group on average includes 1425.5 individuals living in a geographically compact area. \n",
    "\n",
    "The task is to aproximate the median house value of each block from the values of the rest of the variables. \n",
    "\n",
    " It has been obtained from the LIACC repository. The original page where the data set can be found is: http://www.liaad.up.pt/~ltorgo/Regression/DataSets.html.\n",
    " "
   ]
  },
  {
   "cell_type": "markdown",
   "metadata": {
    "collapsed": true
   },
   "source": [
    "The Features:\n",
    " \n",
    "* housingMedianAge: continuous. \n",
    "* totalRooms: continuous. \n",
    "* totalBedrooms: continuous. \n",
    "* population: continuous. \n",
    "* households: continuous. \n",
    "* medianIncome: continuous. \n",
    "* medianHouseValue: continuous. "
   ]
  },
  {
   "cell_type": "markdown",
   "metadata": {},
   "source": [
    "## The Data"
   ]
  },
  {
   "cell_type": "markdown",
   "metadata": {},
   "source": [
    "** Import the cal_housing.csv file with pandas. Separate it into a training (70%) and testing set(30%).**"
   ]
  },
  {
   "cell_type": "code",
   "execution_count": 31,
   "metadata": {},
   "outputs": [],
   "source": [
    "import pandas as pd"
   ]
  },
  {
   "cell_type": "code",
   "execution_count": 32,
   "metadata": {},
   "outputs": [],
   "source": [
    "housing = pd.read_csv('cal_housing_clean.csv')"
   ]
  },
  {
   "cell_type": "code",
   "execution_count": 33,
   "metadata": {},
   "outputs": [
    {
     "data": {
      "text/html": [
       "<div>\n",
       "<style scoped>\n",
       "    .dataframe tbody tr th:only-of-type {\n",
       "        vertical-align: middle;\n",
       "    }\n",
       "\n",
       "    .dataframe tbody tr th {\n",
       "        vertical-align: top;\n",
       "    }\n",
       "\n",
       "    .dataframe thead th {\n",
       "        text-align: right;\n",
       "    }\n",
       "</style>\n",
       "<table border=\"1\" class=\"dataframe\">\n",
       "  <thead>\n",
       "    <tr style=\"text-align: right;\">\n",
       "      <th></th>\n",
       "      <th>housingMedianAge</th>\n",
       "      <th>totalRooms</th>\n",
       "      <th>totalBedrooms</th>\n",
       "      <th>population</th>\n",
       "      <th>households</th>\n",
       "      <th>medianIncome</th>\n",
       "      <th>medianHouseValue</th>\n",
       "    </tr>\n",
       "  </thead>\n",
       "  <tbody>\n",
       "    <tr>\n",
       "      <th>0</th>\n",
       "      <td>41.0</td>\n",
       "      <td>880.0</td>\n",
       "      <td>129.0</td>\n",
       "      <td>322.0</td>\n",
       "      <td>126.0</td>\n",
       "      <td>8.3252</td>\n",
       "      <td>452600.0</td>\n",
       "    </tr>\n",
       "    <tr>\n",
       "      <th>1</th>\n",
       "      <td>21.0</td>\n",
       "      <td>7099.0</td>\n",
       "      <td>1106.0</td>\n",
       "      <td>2401.0</td>\n",
       "      <td>1138.0</td>\n",
       "      <td>8.3014</td>\n",
       "      <td>358500.0</td>\n",
       "    </tr>\n",
       "    <tr>\n",
       "      <th>2</th>\n",
       "      <td>52.0</td>\n",
       "      <td>1467.0</td>\n",
       "      <td>190.0</td>\n",
       "      <td>496.0</td>\n",
       "      <td>177.0</td>\n",
       "      <td>7.2574</td>\n",
       "      <td>352100.0</td>\n",
       "    </tr>\n",
       "    <tr>\n",
       "      <th>3</th>\n",
       "      <td>52.0</td>\n",
       "      <td>1274.0</td>\n",
       "      <td>235.0</td>\n",
       "      <td>558.0</td>\n",
       "      <td>219.0</td>\n",
       "      <td>5.6431</td>\n",
       "      <td>341300.0</td>\n",
       "    </tr>\n",
       "    <tr>\n",
       "      <th>4</th>\n",
       "      <td>52.0</td>\n",
       "      <td>1627.0</td>\n",
       "      <td>280.0</td>\n",
       "      <td>565.0</td>\n",
       "      <td>259.0</td>\n",
       "      <td>3.8462</td>\n",
       "      <td>342200.0</td>\n",
       "    </tr>\n",
       "  </tbody>\n",
       "</table>\n",
       "</div>"
      ],
      "text/plain": [
       "   housingMedianAge  totalRooms  totalBedrooms  population  households  \\\n",
       "0              41.0       880.0          129.0       322.0       126.0   \n",
       "1              21.0      7099.0         1106.0      2401.0      1138.0   \n",
       "2              52.0      1467.0          190.0       496.0       177.0   \n",
       "3              52.0      1274.0          235.0       558.0       219.0   \n",
       "4              52.0      1627.0          280.0       565.0       259.0   \n",
       "\n",
       "   medianIncome  medianHouseValue  \n",
       "0        8.3252          452600.0  \n",
       "1        8.3014          358500.0  \n",
       "2        7.2574          352100.0  \n",
       "3        5.6431          341300.0  \n",
       "4        3.8462          342200.0  "
      ]
     },
     "execution_count": 33,
     "metadata": {},
     "output_type": "execute_result"
    }
   ],
   "source": [
    "housing.head()"
   ]
  },
  {
   "cell_type": "code",
   "execution_count": 34,
   "metadata": {},
   "outputs": [
    {
     "data": {
      "text/html": [
       "<div>\n",
       "<style scoped>\n",
       "    .dataframe tbody tr th:only-of-type {\n",
       "        vertical-align: middle;\n",
       "    }\n",
       "\n",
       "    .dataframe tbody tr th {\n",
       "        vertical-align: top;\n",
       "    }\n",
       "\n",
       "    .dataframe thead th {\n",
       "        text-align: right;\n",
       "    }\n",
       "</style>\n",
       "<table border=\"1\" class=\"dataframe\">\n",
       "  <thead>\n",
       "    <tr style=\"text-align: right;\">\n",
       "      <th></th>\n",
       "      <th>count</th>\n",
       "      <th>mean</th>\n",
       "      <th>std</th>\n",
       "      <th>min</th>\n",
       "      <th>25%</th>\n",
       "      <th>50%</th>\n",
       "      <th>75%</th>\n",
       "      <th>max</th>\n",
       "    </tr>\n",
       "  </thead>\n",
       "  <tbody>\n",
       "    <tr>\n",
       "      <th>housingMedianAge</th>\n",
       "      <td>20640.0</td>\n",
       "      <td>28.639486</td>\n",
       "      <td>12.585558</td>\n",
       "      <td>1.0000</td>\n",
       "      <td>18.0000</td>\n",
       "      <td>29.0000</td>\n",
       "      <td>37.00000</td>\n",
       "      <td>52.0000</td>\n",
       "    </tr>\n",
       "    <tr>\n",
       "      <th>totalRooms</th>\n",
       "      <td>20640.0</td>\n",
       "      <td>2635.763081</td>\n",
       "      <td>2181.615252</td>\n",
       "      <td>2.0000</td>\n",
       "      <td>1447.7500</td>\n",
       "      <td>2127.0000</td>\n",
       "      <td>3148.00000</td>\n",
       "      <td>39320.0000</td>\n",
       "    </tr>\n",
       "    <tr>\n",
       "      <th>totalBedrooms</th>\n",
       "      <td>20640.0</td>\n",
       "      <td>537.898014</td>\n",
       "      <td>421.247906</td>\n",
       "      <td>1.0000</td>\n",
       "      <td>295.0000</td>\n",
       "      <td>435.0000</td>\n",
       "      <td>647.00000</td>\n",
       "      <td>6445.0000</td>\n",
       "    </tr>\n",
       "    <tr>\n",
       "      <th>population</th>\n",
       "      <td>20640.0</td>\n",
       "      <td>1425.476744</td>\n",
       "      <td>1132.462122</td>\n",
       "      <td>3.0000</td>\n",
       "      <td>787.0000</td>\n",
       "      <td>1166.0000</td>\n",
       "      <td>1725.00000</td>\n",
       "      <td>35682.0000</td>\n",
       "    </tr>\n",
       "    <tr>\n",
       "      <th>households</th>\n",
       "      <td>20640.0</td>\n",
       "      <td>499.539680</td>\n",
       "      <td>382.329753</td>\n",
       "      <td>1.0000</td>\n",
       "      <td>280.0000</td>\n",
       "      <td>409.0000</td>\n",
       "      <td>605.00000</td>\n",
       "      <td>6082.0000</td>\n",
       "    </tr>\n",
       "    <tr>\n",
       "      <th>medianIncome</th>\n",
       "      <td>20640.0</td>\n",
       "      <td>3.870671</td>\n",
       "      <td>1.899822</td>\n",
       "      <td>0.4999</td>\n",
       "      <td>2.5634</td>\n",
       "      <td>3.5348</td>\n",
       "      <td>4.74325</td>\n",
       "      <td>15.0001</td>\n",
       "    </tr>\n",
       "    <tr>\n",
       "      <th>medianHouseValue</th>\n",
       "      <td>20640.0</td>\n",
       "      <td>206855.816909</td>\n",
       "      <td>115395.615874</td>\n",
       "      <td>14999.0000</td>\n",
       "      <td>119600.0000</td>\n",
       "      <td>179700.0000</td>\n",
       "      <td>264725.00000</td>\n",
       "      <td>500001.0000</td>\n",
       "    </tr>\n",
       "  </tbody>\n",
       "</table>\n",
       "</div>"
      ],
      "text/plain": [
       "                    count           mean            std         min  \\\n",
       "housingMedianAge  20640.0      28.639486      12.585558      1.0000   \n",
       "totalRooms        20640.0    2635.763081    2181.615252      2.0000   \n",
       "totalBedrooms     20640.0     537.898014     421.247906      1.0000   \n",
       "population        20640.0    1425.476744    1132.462122      3.0000   \n",
       "households        20640.0     499.539680     382.329753      1.0000   \n",
       "medianIncome      20640.0       3.870671       1.899822      0.4999   \n",
       "medianHouseValue  20640.0  206855.816909  115395.615874  14999.0000   \n",
       "\n",
       "                          25%          50%           75%          max  \n",
       "housingMedianAge      18.0000      29.0000      37.00000      52.0000  \n",
       "totalRooms          1447.7500    2127.0000    3148.00000   39320.0000  \n",
       "totalBedrooms        295.0000     435.0000     647.00000    6445.0000  \n",
       "population           787.0000    1166.0000    1725.00000   35682.0000  \n",
       "households           280.0000     409.0000     605.00000    6082.0000  \n",
       "medianIncome           2.5634       3.5348       4.74325      15.0001  \n",
       "medianHouseValue  119600.0000  179700.0000  264725.00000  500001.0000  "
      ]
     },
     "execution_count": 34,
     "metadata": {},
     "output_type": "execute_result"
    }
   ],
   "source": [
    "housing.describe().transpose()"
   ]
  },
  {
   "cell_type": "code",
   "execution_count": 35,
   "metadata": {
    "scrolled": true
   },
   "outputs": [],
   "source": [
    "x_data = housing.drop(['medianHouseValue'],axis=1)"
   ]
  },
  {
   "cell_type": "code",
   "execution_count": 36,
   "metadata": {},
   "outputs": [],
   "source": [
    "y_val = housing['medianHouseValue']"
   ]
  },
  {
   "cell_type": "code",
   "execution_count": 37,
   "metadata": {},
   "outputs": [],
   "source": [
    "from sklearn.model_selection import train_test_split"
   ]
  },
  {
   "cell_type": "code",
   "execution_count": 38,
   "metadata": {},
   "outputs": [],
   "source": [
    "X_train, X_test, y_train, y_test = train_test_split(x_data,y_val,test_size=0.3,random_state=101)"
   ]
  },
  {
   "cell_type": "markdown",
   "metadata": {},
   "source": [
    "### Scale the Feature Data\n",
    "\n",
    "** Use sklearn preprocessing to create a MinMaxScaler for the feature data. Fit this scaler only to the training data. Then use it to transform X_test and X_train. Then use the scaled X_test and X_train along with pd.Dataframe to re-create two dataframes of scaled data.**"
   ]
  },
  {
   "cell_type": "code",
   "execution_count": 39,
   "metadata": {},
   "outputs": [],
   "source": [
    "from sklearn.preprocessing import MinMaxScaler"
   ]
  },
  {
   "cell_type": "code",
   "execution_count": 40,
   "metadata": {},
   "outputs": [],
   "source": [
    "scaler = MinMaxScaler()"
   ]
  },
  {
   "cell_type": "code",
   "execution_count": 41,
   "metadata": {},
   "outputs": [
    {
     "data": {
      "text/plain": [
       "MinMaxScaler(copy=True, feature_range=(0, 1))"
      ]
     },
     "execution_count": 41,
     "metadata": {},
     "output_type": "execute_result"
    }
   ],
   "source": [
    "scaler.fit(X_train)"
   ]
  },
  {
   "cell_type": "code",
   "execution_count": 42,
   "metadata": {},
   "outputs": [],
   "source": [
    "X_train = pd.DataFrame(data=scaler.transform(X_train),columns = X_train.columns,index=X_train.index)"
   ]
  },
  {
   "cell_type": "code",
   "execution_count": 43,
   "metadata": {},
   "outputs": [],
   "source": [
    "X_test = pd.DataFrame(data=scaler.transform(X_test),columns = X_test.columns,index=X_test.index)"
   ]
  },
  {
   "cell_type": "markdown",
   "metadata": {},
   "source": [
    "### Create Feature Columns\n",
    "\n",
    "** Create the necessary tf.feature_column objects for the estimator. They should all be trated as continuous numeric_columns. **"
   ]
  },
  {
   "cell_type": "code",
   "execution_count": 44,
   "metadata": {},
   "outputs": [
    {
     "data": {
      "text/plain": [
       "Index(['housingMedianAge', 'totalRooms', 'totalBedrooms', 'population',\n",
       "       'households', 'medianIncome', 'medianHouseValue'],\n",
       "      dtype='object')"
      ]
     },
     "execution_count": 44,
     "metadata": {},
     "output_type": "execute_result"
    }
   ],
   "source": [
    "housing.columns"
   ]
  },
  {
   "cell_type": "code",
   "execution_count": 45,
   "metadata": {},
   "outputs": [],
   "source": [
    "import tensorflow as tf"
   ]
  },
  {
   "cell_type": "code",
   "execution_count": 46,
   "metadata": {},
   "outputs": [],
   "source": [
    "age = tf.feature_column.numeric_column('housingMedianAge')\n",
    "rooms = tf.feature_column.numeric_column('totalRooms')\n",
    "bedrooms = tf.feature_column.numeric_column('totalBedrooms')\n",
    "pop = tf.feature_column.numeric_column('population')\n",
    "households = tf.feature_column.numeric_column('households')\n",
    "income = tf.feature_column.numeric_column('medianIncome')"
   ]
  },
  {
   "cell_type": "code",
   "execution_count": 47,
   "metadata": {},
   "outputs": [],
   "source": [
    "feat_cols = [ age,rooms,bedrooms,pop,households,income]"
   ]
  },
  {
   "cell_type": "markdown",
   "metadata": {},
   "source": [
    "** Create the input function for the estimator object. (play around with batch_size and num_epochs)**"
   ]
  },
  {
   "cell_type": "code",
   "execution_count": 48,
   "metadata": {},
   "outputs": [],
   "source": [
    "input_func = tf.estimator.inputs.pandas_input_fn(x=X_train,y=y_train ,batch_size=10,num_epochs=1000,\n",
    "                                            shuffle=True)"
   ]
  },
  {
   "cell_type": "markdown",
   "metadata": {},
   "source": [
    "** Create the estimator model. Use a DNNRegressor. Play around with the hidden units! **"
   ]
  },
  {
   "cell_type": "code",
   "execution_count": 49,
   "metadata": {},
   "outputs": [
    {
     "name": "stdout",
     "output_type": "stream",
     "text": [
      "INFO:tensorflow:Using default config.\n",
      "WARNING:tensorflow:Using temporary folder as model directory: /var/folders/28/6fl1s6897q17ww4ypjgd5p540000gn/T/tmpmjnd2_uk\n",
      "INFO:tensorflow:Using config: {'_model_dir': '/var/folders/28/6fl1s6897q17ww4ypjgd5p540000gn/T/tmpmjnd2_uk', '_tf_random_seed': None, '_save_summary_steps': 100, '_save_checkpoints_steps': None, '_save_checkpoints_secs': 600, '_session_config': None, '_keep_checkpoint_max': 5, '_keep_checkpoint_every_n_hours': 10000, '_log_step_count_steps': 100, '_train_distribute': None, '_service': None, '_cluster_spec': <tensorflow.python.training.server_lib.ClusterSpec object at 0x113511668>, '_task_type': 'worker', '_task_id': 0, '_global_id_in_cluster': 0, '_master': '', '_evaluation_master': '', '_is_chief': True, '_num_ps_replicas': 0, '_num_worker_replicas': 1}\n"
     ]
    }
   ],
   "source": [
    "model = tf.estimator.DNNRegressor(hidden_units=[6,6,6],feature_columns=feat_cols)"
   ]
  },
  {
   "cell_type": "markdown",
   "metadata": {},
   "source": [
    "##### ** Train the model for ~1,000 steps. (Later come back to this and train it for more and check for improvement) **"
   ]
  },
  {
   "cell_type": "code",
   "execution_count": 50,
   "metadata": {},
   "outputs": [
    {
     "name": "stdout",
     "output_type": "stream",
     "text": [
      "INFO:tensorflow:Calling model_fn.\n",
      "INFO:tensorflow:Done calling model_fn.\n",
      "INFO:tensorflow:Create CheckpointSaverHook.\n",
      "INFO:tensorflow:Graph was finalized.\n",
      "INFO:tensorflow:Running local_init_op.\n",
      "INFO:tensorflow:Done running local_init_op.\n",
      "INFO:tensorflow:Saving checkpoints for 1 into /var/folders/28/6fl1s6897q17ww4ypjgd5p540000gn/T/tmpmjnd2_uk/model.ckpt.\n",
      "INFO:tensorflow:loss = 723927960000.0, step = 1\n",
      "INFO:tensorflow:global_step/sec: 332.572\n",
      "INFO:tensorflow:loss = 734615800000.0, step = 101 (0.302 sec)\n",
      "INFO:tensorflow:global_step/sec: 449.873\n",
      "INFO:tensorflow:loss = 419182600000.0, step = 201 (0.222 sec)\n",
      "INFO:tensorflow:global_step/sec: 445.091\n",
      "INFO:tensorflow:loss = 270027200000.0, step = 301 (0.227 sec)\n",
      "INFO:tensorflow:global_step/sec: 435.203\n",
      "INFO:tensorflow:loss = 547233100000.0, step = 401 (0.229 sec)\n",
      "INFO:tensorflow:global_step/sec: 424.439\n",
      "INFO:tensorflow:loss = 582785760000.0, step = 501 (0.233 sec)\n",
      "INFO:tensorflow:global_step/sec: 446.504\n",
      "INFO:tensorflow:loss = 363509970000.0, step = 601 (0.224 sec)\n",
      "INFO:tensorflow:global_step/sec: 423.451\n",
      "INFO:tensorflow:loss = 362287560000.0, step = 701 (0.236 sec)\n",
      "INFO:tensorflow:global_step/sec: 451.685\n",
      "INFO:tensorflow:loss = 453517380000.0, step = 801 (0.221 sec)\n",
      "INFO:tensorflow:global_step/sec: 445.502\n",
      "INFO:tensorflow:loss = 141985220000.0, step = 901 (0.224 sec)\n",
      "INFO:tensorflow:global_step/sec: 420.173\n",
      "INFO:tensorflow:loss = 338116940000.0, step = 1001 (0.238 sec)\n",
      "INFO:tensorflow:global_step/sec: 454.438\n",
      "INFO:tensorflow:loss = 304993100000.0, step = 1101 (0.220 sec)\n",
      "INFO:tensorflow:global_step/sec: 441.287\n",
      "INFO:tensorflow:loss = 113394115000.0, step = 1201 (0.226 sec)\n",
      "INFO:tensorflow:global_step/sec: 391.249\n",
      "INFO:tensorflow:loss = 101571570000.0, step = 1301 (0.256 sec)\n",
      "INFO:tensorflow:global_step/sec: 439.398\n",
      "INFO:tensorflow:loss = 109914590000.0, step = 1401 (0.227 sec)\n",
      "INFO:tensorflow:global_step/sec: 420.088\n",
      "INFO:tensorflow:loss = 189061730000.0, step = 1501 (0.238 sec)\n",
      "INFO:tensorflow:global_step/sec: 452.999\n",
      "INFO:tensorflow:loss = 85814310000.0, step = 1601 (0.221 sec)\n",
      "INFO:tensorflow:global_step/sec: 458.939\n",
      "INFO:tensorflow:loss = 53347680000.0, step = 1701 (0.218 sec)\n",
      "INFO:tensorflow:global_step/sec: 458.67\n",
      "INFO:tensorflow:loss = 51128218000.0, step = 1801 (0.219 sec)\n",
      "INFO:tensorflow:global_step/sec: 444.655\n",
      "INFO:tensorflow:loss = 79755170000.0, step = 1901 (0.224 sec)\n",
      "INFO:tensorflow:global_step/sec: 439.94\n",
      "INFO:tensorflow:loss = 79487770000.0, step = 2001 (0.230 sec)\n",
      "INFO:tensorflow:global_step/sec: 425.517\n",
      "INFO:tensorflow:loss = 124019160000.0, step = 2101 (0.233 sec)\n",
      "INFO:tensorflow:global_step/sec: 402.029\n",
      "INFO:tensorflow:loss = 63685350000.0, step = 2201 (0.249 sec)\n",
      "INFO:tensorflow:global_step/sec: 390.399\n",
      "INFO:tensorflow:loss = 103807754000.0, step = 2301 (0.256 sec)\n",
      "INFO:tensorflow:global_step/sec: 454.003\n",
      "INFO:tensorflow:loss = 130939175000.0, step = 2401 (0.220 sec)\n",
      "INFO:tensorflow:global_step/sec: 450.814\n",
      "INFO:tensorflow:loss = 127469710000.0, step = 2501 (0.222 sec)\n",
      "INFO:tensorflow:global_step/sec: 451.306\n",
      "INFO:tensorflow:loss = 121338750000.0, step = 2601 (0.222 sec)\n",
      "INFO:tensorflow:global_step/sec: 435.459\n",
      "INFO:tensorflow:loss = 95078680000.0, step = 2701 (0.230 sec)\n",
      "INFO:tensorflow:global_step/sec: 409.549\n",
      "INFO:tensorflow:loss = 174179250000.0, step = 2801 (0.244 sec)\n",
      "INFO:tensorflow:global_step/sec: 452.176\n",
      "INFO:tensorflow:loss = 173523600000.0, step = 2901 (0.221 sec)\n",
      "INFO:tensorflow:global_step/sec: 411.894\n",
      "INFO:tensorflow:loss = 45740868000.0, step = 3001 (0.243 sec)\n",
      "INFO:tensorflow:global_step/sec: 443.111\n",
      "INFO:tensorflow:loss = 120092440000.0, step = 3101 (0.226 sec)\n",
      "INFO:tensorflow:global_step/sec: 425.105\n",
      "INFO:tensorflow:loss = 49269453000.0, step = 3201 (0.235 sec)\n",
      "INFO:tensorflow:global_step/sec: 454.003\n",
      "INFO:tensorflow:loss = 130744890000.0, step = 3301 (0.220 sec)\n",
      "INFO:tensorflow:global_step/sec: 460.721\n",
      "INFO:tensorflow:loss = 97148810000.0, step = 3401 (0.217 sec)\n",
      "INFO:tensorflow:global_step/sec: 440.207\n",
      "INFO:tensorflow:loss = 197983750000.0, step = 3501 (0.227 sec)\n",
      "INFO:tensorflow:global_step/sec: 444.882\n",
      "INFO:tensorflow:loss = 101589410000.0, step = 3601 (0.225 sec)\n",
      "INFO:tensorflow:global_step/sec: 452.96\n",
      "INFO:tensorflow:loss = 82653630000.0, step = 3701 (0.221 sec)\n",
      "INFO:tensorflow:global_step/sec: 413.403\n",
      "INFO:tensorflow:loss = 79492940000.0, step = 3801 (0.244 sec)\n",
      "INFO:tensorflow:global_step/sec: 430.506\n",
      "INFO:tensorflow:loss = 71224780000.0, step = 3901 (0.232 sec)\n",
      "INFO:tensorflow:global_step/sec: 398.862\n",
      "INFO:tensorflow:loss = 122223256000.0, step = 4001 (0.252 sec)\n",
      "INFO:tensorflow:global_step/sec: 404.537\n",
      "INFO:tensorflow:loss = 70666854000.0, step = 4101 (0.244 sec)\n",
      "INFO:tensorflow:global_step/sec: 392.225\n",
      "INFO:tensorflow:loss = 77715550000.0, step = 4201 (0.255 sec)\n",
      "INFO:tensorflow:global_step/sec: 402.805\n",
      "INFO:tensorflow:loss = 242276760000.0, step = 4301 (0.248 sec)\n",
      "INFO:tensorflow:global_step/sec: 438.878\n",
      "INFO:tensorflow:loss = 76498140000.0, step = 4401 (0.228 sec)\n",
      "INFO:tensorflow:global_step/sec: 444.757\n",
      "INFO:tensorflow:loss = 93809840000.0, step = 4501 (0.225 sec)\n",
      "INFO:tensorflow:global_step/sec: 441.1\n",
      "INFO:tensorflow:loss = 72724300000.0, step = 4601 (0.227 sec)\n",
      "INFO:tensorflow:global_step/sec: 448.157\n",
      "INFO:tensorflow:loss = 94172250000.0, step = 4701 (0.223 sec)\n",
      "INFO:tensorflow:global_step/sec: 430.624\n",
      "INFO:tensorflow:loss = 59239506000.0, step = 4801 (0.232 sec)\n",
      "INFO:tensorflow:global_step/sec: 444.221\n",
      "INFO:tensorflow:loss = 80022700000.0, step = 4901 (0.225 sec)\n",
      "INFO:tensorflow:global_step/sec: 439.011\n",
      "INFO:tensorflow:loss = 144565340000.0, step = 5001 (0.228 sec)\n",
      "INFO:tensorflow:global_step/sec: 468.801\n",
      "INFO:tensorflow:loss = 44544516000.0, step = 5101 (0.214 sec)\n",
      "INFO:tensorflow:global_step/sec: 442.374\n",
      "INFO:tensorflow:loss = 197440500000.0, step = 5201 (0.225 sec)\n",
      "INFO:tensorflow:global_step/sec: 457.239\n",
      "INFO:tensorflow:loss = 145430510000.0, step = 5301 (0.219 sec)\n",
      "INFO:tensorflow:global_step/sec: 464.576\n",
      "INFO:tensorflow:loss = 67551756000.0, step = 5401 (0.215 sec)\n",
      "INFO:tensorflow:global_step/sec: 476.504\n",
      "INFO:tensorflow:loss = 50422125000.0, step = 5501 (0.210 sec)\n",
      "INFO:tensorflow:global_step/sec: 471.447\n",
      "INFO:tensorflow:loss = 136157690000.0, step = 5601 (0.212 sec)\n",
      "INFO:tensorflow:global_step/sec: 452.139\n",
      "INFO:tensorflow:loss = 177133490000.0, step = 5701 (0.221 sec)\n",
      "INFO:tensorflow:global_step/sec: 468.615\n",
      "INFO:tensorflow:loss = 11240669000.0, step = 5801 (0.213 sec)\n",
      "INFO:tensorflow:global_step/sec: 444.243\n",
      "INFO:tensorflow:loss = 23422382000.0, step = 5901 (0.225 sec)\n",
      "INFO:tensorflow:global_step/sec: 469.565\n",
      "INFO:tensorflow:loss = 57041465000.0, step = 6001 (0.213 sec)\n",
      "INFO:tensorflow:global_step/sec: 458.35\n",
      "INFO:tensorflow:loss = 118143705000.0, step = 6101 (0.218 sec)\n",
      "INFO:tensorflow:global_step/sec: 451.73\n",
      "INFO:tensorflow:loss = 169323300000.0, step = 6201 (0.221 sec)\n",
      "INFO:tensorflow:global_step/sec: 466.633\n",
      "INFO:tensorflow:loss = 70617010000.0, step = 6301 (0.215 sec)\n",
      "INFO:tensorflow:global_step/sec: 446.475\n",
      "INFO:tensorflow:loss = 149434860000.0, step = 6401 (0.224 sec)\n",
      "INFO:tensorflow:global_step/sec: 466.788\n",
      "INFO:tensorflow:loss = 157636200000.0, step = 6501 (0.214 sec)\n",
      "INFO:tensorflow:global_step/sec: 474.374\n",
      "INFO:tensorflow:loss = 120869000000.0, step = 6601 (0.211 sec)\n",
      "INFO:tensorflow:global_step/sec: 460.011\n",
      "INFO:tensorflow:loss = 116799520000.0, step = 6701 (0.220 sec)\n",
      "INFO:tensorflow:global_step/sec: 453.706\n",
      "INFO:tensorflow:loss = 97600990000.0, step = 6801 (0.219 sec)\n",
      "INFO:tensorflow:global_step/sec: 460.713\n",
      "INFO:tensorflow:loss = 78772180000.0, step = 6901 (0.216 sec)\n",
      "INFO:tensorflow:global_step/sec: 494.277\n",
      "INFO:tensorflow:loss = 52663943000.0, step = 7001 (0.202 sec)\n",
      "INFO:tensorflow:global_step/sec: 469.34\n",
      "INFO:tensorflow:loss = 30902825000.0, step = 7101 (0.213 sec)\n",
      "INFO:tensorflow:global_step/sec: 481.89\n",
      "INFO:tensorflow:loss = 163455370000.0, step = 7201 (0.207 sec)\n",
      "INFO:tensorflow:global_step/sec: 465.316\n",
      "INFO:tensorflow:loss = 223164660000.0, step = 7301 (0.215 sec)\n",
      "INFO:tensorflow:global_step/sec: 471.531\n",
      "INFO:tensorflow:loss = 122429520000.0, step = 7401 (0.212 sec)\n",
      "INFO:tensorflow:global_step/sec: 485.746\n",
      "INFO:tensorflow:loss = 127783780000.0, step = 7501 (0.206 sec)\n",
      "INFO:tensorflow:global_step/sec: 468.213\n"
     ]
    },
    {
     "name": "stdout",
     "output_type": "stream",
     "text": [
      "INFO:tensorflow:loss = 137902830000.0, step = 7601 (0.213 sec)\n",
      "INFO:tensorflow:global_step/sec: 495.751\n",
      "INFO:tensorflow:loss = 41709134000.0, step = 7701 (0.202 sec)\n",
      "INFO:tensorflow:global_step/sec: 477.527\n",
      "INFO:tensorflow:loss = 122826680000.0, step = 7801 (0.209 sec)\n",
      "INFO:tensorflow:global_step/sec: 463.143\n",
      "INFO:tensorflow:loss = 165445240000.0, step = 7901 (0.216 sec)\n",
      "INFO:tensorflow:global_step/sec: 460.558\n",
      "INFO:tensorflow:loss = 50649620000.0, step = 8001 (0.217 sec)\n",
      "INFO:tensorflow:global_step/sec: 464.697\n",
      "INFO:tensorflow:loss = 78797460000.0, step = 8101 (0.215 sec)\n",
      "INFO:tensorflow:global_step/sec: 496.778\n",
      "INFO:tensorflow:loss = 196987190000.0, step = 8201 (0.201 sec)\n",
      "INFO:tensorflow:global_step/sec: 448.89\n",
      "INFO:tensorflow:loss = 244492350000.0, step = 8301 (0.223 sec)\n",
      "INFO:tensorflow:global_step/sec: 455.402\n",
      "INFO:tensorflow:loss = 63667356000.0, step = 8401 (0.221 sec)\n",
      "INFO:tensorflow:global_step/sec: 456.869\n",
      "INFO:tensorflow:loss = 107960420000.0, step = 8501 (0.218 sec)\n",
      "INFO:tensorflow:global_step/sec: 432.522\n",
      "INFO:tensorflow:loss = 65571975000.0, step = 8601 (0.231 sec)\n",
      "INFO:tensorflow:global_step/sec: 460.707\n",
      "INFO:tensorflow:loss = 81853810000.0, step = 8701 (0.217 sec)\n",
      "INFO:tensorflow:global_step/sec: 451.469\n",
      "INFO:tensorflow:loss = 76775040000.0, step = 8801 (0.221 sec)\n",
      "INFO:tensorflow:global_step/sec: 449.051\n",
      "INFO:tensorflow:loss = 138351210000.0, step = 8901 (0.223 sec)\n",
      "INFO:tensorflow:global_step/sec: 457.365\n",
      "INFO:tensorflow:loss = 46488166000.0, step = 9001 (0.219 sec)\n",
      "INFO:tensorflow:global_step/sec: 449.994\n",
      "INFO:tensorflow:loss = 121268100000.0, step = 9101 (0.222 sec)\n",
      "INFO:tensorflow:global_step/sec: 459.844\n",
      "INFO:tensorflow:loss = 105646514000.0, step = 9201 (0.217 sec)\n",
      "INFO:tensorflow:global_step/sec: 427.749\n",
      "INFO:tensorflow:loss = 36147393000.0, step = 9301 (0.234 sec)\n",
      "INFO:tensorflow:global_step/sec: 403.485\n",
      "INFO:tensorflow:loss = 46364393000.0, step = 9401 (0.248 sec)\n",
      "INFO:tensorflow:global_step/sec: 383.509\n",
      "INFO:tensorflow:loss = 118898140000.0, step = 9501 (0.264 sec)\n",
      "INFO:tensorflow:global_step/sec: 379.586\n",
      "INFO:tensorflow:loss = 49329970000.0, step = 9601 (0.260 sec)\n",
      "INFO:tensorflow:global_step/sec: 449.14\n",
      "INFO:tensorflow:loss = 145607800000.0, step = 9701 (0.222 sec)\n",
      "INFO:tensorflow:global_step/sec: 392.278\n",
      "INFO:tensorflow:loss = 234973560000.0, step = 9801 (0.255 sec)\n",
      "INFO:tensorflow:global_step/sec: 421.58\n",
      "INFO:tensorflow:loss = 64392360000.0, step = 9901 (0.237 sec)\n",
      "INFO:tensorflow:global_step/sec: 385.813\n",
      "INFO:tensorflow:loss = 120352680000.0, step = 10001 (0.259 sec)\n",
      "INFO:tensorflow:global_step/sec: 420.925\n",
      "INFO:tensorflow:loss = 83769430000.0, step = 10101 (0.238 sec)\n",
      "INFO:tensorflow:global_step/sec: 424.611\n",
      "INFO:tensorflow:loss = 166458000000.0, step = 10201 (0.239 sec)\n",
      "INFO:tensorflow:global_step/sec: 404.058\n",
      "INFO:tensorflow:loss = 108373190000.0, step = 10301 (0.247 sec)\n",
      "INFO:tensorflow:global_step/sec: 417.97\n",
      "INFO:tensorflow:loss = 76574200000.0, step = 10401 (0.239 sec)\n",
      "INFO:tensorflow:global_step/sec: 435.656\n",
      "INFO:tensorflow:loss = 187117010000.0, step = 10501 (0.231 sec)\n",
      "INFO:tensorflow:global_step/sec: 442.962\n",
      "INFO:tensorflow:loss = 117291926000.0, step = 10601 (0.224 sec)\n",
      "INFO:tensorflow:global_step/sec: 454.833\n",
      "INFO:tensorflow:loss = 113488250000.0, step = 10701 (0.219 sec)\n",
      "INFO:tensorflow:global_step/sec: 453.313\n",
      "INFO:tensorflow:loss = 67911670000.0, step = 10801 (0.220 sec)\n",
      "INFO:tensorflow:global_step/sec: 456.683\n",
      "INFO:tensorflow:loss = 305981300000.0, step = 10901 (0.218 sec)\n",
      "INFO:tensorflow:global_step/sec: 441.823\n",
      "INFO:tensorflow:loss = 35034395000.0, step = 11001 (0.226 sec)\n",
      "INFO:tensorflow:global_step/sec: 459.287\n",
      "INFO:tensorflow:loss = 134951120000.0, step = 11101 (0.218 sec)\n",
      "INFO:tensorflow:global_step/sec: 474.262\n",
      "INFO:tensorflow:loss = 224912770000.0, step = 11201 (0.211 sec)\n",
      "INFO:tensorflow:global_step/sec: 469.981\n",
      "INFO:tensorflow:loss = 85458880000.0, step = 11301 (0.213 sec)\n",
      "INFO:tensorflow:global_step/sec: 469.247\n",
      "INFO:tensorflow:loss = 64206290000.0, step = 11401 (0.213 sec)\n",
      "INFO:tensorflow:global_step/sec: 473.698\n",
      "INFO:tensorflow:loss = 61552860000.0, step = 11501 (0.211 sec)\n",
      "INFO:tensorflow:global_step/sec: 451.147\n",
      "INFO:tensorflow:loss = 52150923000.0, step = 11601 (0.222 sec)\n",
      "INFO:tensorflow:global_step/sec: 491.227\n",
      "INFO:tensorflow:loss = 40007725000.0, step = 11701 (0.207 sec)\n",
      "INFO:tensorflow:global_step/sec: 430.198\n",
      "INFO:tensorflow:loss = 134590650000.0, step = 11801 (0.229 sec)\n",
      "INFO:tensorflow:global_step/sec: 496.409\n",
      "INFO:tensorflow:loss = 47477977000.0, step = 11901 (0.203 sec)\n",
      "INFO:tensorflow:global_step/sec: 464.916\n",
      "INFO:tensorflow:loss = 103796480000.0, step = 12001 (0.214 sec)\n",
      "INFO:tensorflow:global_step/sec: 475.881\n",
      "INFO:tensorflow:loss = 55465587000.0, step = 12101 (0.210 sec)\n",
      "INFO:tensorflow:global_step/sec: 458.637\n",
      "INFO:tensorflow:loss = 78002370000.0, step = 12201 (0.218 sec)\n",
      "INFO:tensorflow:global_step/sec: 456.437\n",
      "INFO:tensorflow:loss = 67984320000.0, step = 12301 (0.220 sec)\n",
      "INFO:tensorflow:global_step/sec: 447.387\n",
      "INFO:tensorflow:loss = 122620860000.0, step = 12401 (0.225 sec)\n",
      "INFO:tensorflow:global_step/sec: 478.181\n",
      "INFO:tensorflow:loss = 159602460000.0, step = 12501 (0.207 sec)\n",
      "INFO:tensorflow:global_step/sec: 486.478\n",
      "INFO:tensorflow:loss = 106820170000.0, step = 12601 (0.205 sec)\n",
      "INFO:tensorflow:global_step/sec: 470.743\n",
      "INFO:tensorflow:loss = 110189880000.0, step = 12701 (0.213 sec)\n",
      "INFO:tensorflow:global_step/sec: 476.765\n",
      "INFO:tensorflow:loss = 100455260000.0, step = 12801 (0.210 sec)\n",
      "INFO:tensorflow:global_step/sec: 477.28\n",
      "INFO:tensorflow:loss = 163084100000.0, step = 12901 (0.211 sec)\n",
      "INFO:tensorflow:global_step/sec: 471.458\n",
      "INFO:tensorflow:loss = 212068470000.0, step = 13001 (0.210 sec)\n",
      "INFO:tensorflow:global_step/sec: 459.952\n",
      "INFO:tensorflow:loss = 70972130000.0, step = 13101 (0.218 sec)\n",
      "INFO:tensorflow:global_step/sec: 465.543\n",
      "INFO:tensorflow:loss = 96186650000.0, step = 13201 (0.214 sec)\n",
      "INFO:tensorflow:global_step/sec: 459.823\n",
      "INFO:tensorflow:loss = 173972650000.0, step = 13301 (0.218 sec)\n",
      "INFO:tensorflow:global_step/sec: 464.016\n",
      "INFO:tensorflow:loss = 66969350000.0, step = 13401 (0.217 sec)\n",
      "INFO:tensorflow:global_step/sec: 465.341\n",
      "INFO:tensorflow:loss = 91919240000.0, step = 13501 (0.213 sec)\n",
      "INFO:tensorflow:global_step/sec: 476.758\n",
      "INFO:tensorflow:loss = 134550630000.0, step = 13601 (0.210 sec)\n",
      "INFO:tensorflow:global_step/sec: 450.509\n",
      "INFO:tensorflow:loss = 64521940000.0, step = 13701 (0.222 sec)\n",
      "INFO:tensorflow:global_step/sec: 467.924\n",
      "INFO:tensorflow:loss = 164329200000.0, step = 13801 (0.214 sec)\n",
      "INFO:tensorflow:global_step/sec: 458.235\n",
      "INFO:tensorflow:loss = 123986510000.0, step = 13901 (0.219 sec)\n",
      "INFO:tensorflow:global_step/sec: 471.266\n",
      "INFO:tensorflow:loss = 102371390000.0, step = 14001 (0.212 sec)\n",
      "INFO:tensorflow:global_step/sec: 485.336\n",
      "INFO:tensorflow:loss = 129200620000.0, step = 14101 (0.206 sec)\n",
      "INFO:tensorflow:global_step/sec: 454.481\n",
      "INFO:tensorflow:loss = 70354100000.0, step = 14201 (0.220 sec)\n",
      "INFO:tensorflow:global_step/sec: 433.749\n",
      "INFO:tensorflow:loss = 129110150000.0, step = 14301 (0.231 sec)\n",
      "INFO:tensorflow:global_step/sec: 472.764\n",
      "INFO:tensorflow:loss = 72037670000.0, step = 14401 (0.210 sec)\n",
      "INFO:tensorflow:global_step/sec: 472.055\n",
      "INFO:tensorflow:loss = 116669160000.0, step = 14501 (0.212 sec)\n",
      "INFO:tensorflow:global_step/sec: 463.377\n",
      "INFO:tensorflow:loss = 110762670000.0, step = 14601 (0.216 sec)\n",
      "INFO:tensorflow:global_step/sec: 458.261\n",
      "INFO:tensorflow:loss = 99738860000.0, step = 14701 (0.218 sec)\n",
      "INFO:tensorflow:global_step/sec: 468.839\n",
      "INFO:tensorflow:loss = 159177690000.0, step = 14801 (0.214 sec)\n",
      "INFO:tensorflow:global_step/sec: 479.623\n",
      "INFO:tensorflow:loss = 80796290000.0, step = 14901 (0.208 sec)\n",
      "INFO:tensorflow:global_step/sec: 467.973\n",
      "INFO:tensorflow:loss = 71980710000.0, step = 15001 (0.214 sec)\n",
      "INFO:tensorflow:global_step/sec: 459.377\n",
      "INFO:tensorflow:loss = 134346260000.0, step = 15101 (0.218 sec)\n",
      "INFO:tensorflow:global_step/sec: 453.205\n",
      "INFO:tensorflow:loss = 133705390000.0, step = 15201 (0.221 sec)\n",
      "INFO:tensorflow:global_step/sec: 458.532\n",
      "INFO:tensorflow:loss = 79427270000.0, step = 15301 (0.218 sec)\n",
      "INFO:tensorflow:global_step/sec: 470.005\n",
      "INFO:tensorflow:loss = 108774230000.0, step = 15401 (0.212 sec)\n",
      "INFO:tensorflow:global_step/sec: 462.648\n"
     ]
    },
    {
     "name": "stdout",
     "output_type": "stream",
     "text": [
      "INFO:tensorflow:loss = 23421030000.0, step = 15501 (0.216 sec)\n",
      "INFO:tensorflow:global_step/sec: 467.239\n",
      "INFO:tensorflow:loss = 108888470000.0, step = 15601 (0.214 sec)\n",
      "INFO:tensorflow:global_step/sec: 467.905\n",
      "INFO:tensorflow:loss = 81769120000.0, step = 15701 (0.214 sec)\n",
      "INFO:tensorflow:global_step/sec: 442.27\n",
      "INFO:tensorflow:loss = 146574440000.0, step = 15801 (0.226 sec)\n",
      "INFO:tensorflow:global_step/sec: 459.749\n",
      "INFO:tensorflow:loss = 39093363000.0, step = 15901 (0.218 sec)\n",
      "INFO:tensorflow:global_step/sec: 462.304\n",
      "INFO:tensorflow:loss = 122001420000.0, step = 16001 (0.216 sec)\n",
      "INFO:tensorflow:global_step/sec: 463.68\n",
      "INFO:tensorflow:loss = 58823295000.0, step = 16101 (0.216 sec)\n",
      "INFO:tensorflow:global_step/sec: 466.397\n",
      "INFO:tensorflow:loss = 57162682000.0, step = 16201 (0.214 sec)\n",
      "INFO:tensorflow:global_step/sec: 474.768\n",
      "INFO:tensorflow:loss = 62225297000.0, step = 16301 (0.211 sec)\n",
      "INFO:tensorflow:global_step/sec: 478.87\n",
      "INFO:tensorflow:loss = 101922320000.0, step = 16401 (0.209 sec)\n",
      "INFO:tensorflow:global_step/sec: 451.113\n",
      "INFO:tensorflow:loss = 165324200000.0, step = 16501 (0.222 sec)\n",
      "INFO:tensorflow:global_step/sec: 450.761\n",
      "INFO:tensorflow:loss = 121540110000.0, step = 16601 (0.222 sec)\n",
      "INFO:tensorflow:global_step/sec: 461.087\n",
      "INFO:tensorflow:loss = 125315930000.0, step = 16701 (0.217 sec)\n",
      "INFO:tensorflow:global_step/sec: 465.552\n",
      "INFO:tensorflow:loss = 58357610000.0, step = 16801 (0.215 sec)\n",
      "INFO:tensorflow:global_step/sec: 432.902\n",
      "INFO:tensorflow:loss = 50466144000.0, step = 16901 (0.232 sec)\n",
      "INFO:tensorflow:global_step/sec: 468.673\n",
      "INFO:tensorflow:loss = 63354550000.0, step = 17001 (0.212 sec)\n",
      "INFO:tensorflow:global_step/sec: 480.388\n",
      "INFO:tensorflow:loss = 68643920000.0, step = 17101 (0.208 sec)\n",
      "INFO:tensorflow:global_step/sec: 466.76\n",
      "INFO:tensorflow:loss = 84425510000.0, step = 17201 (0.215 sec)\n",
      "INFO:tensorflow:global_step/sec: 447.473\n",
      "INFO:tensorflow:loss = 82156160000.0, step = 17301 (0.223 sec)\n",
      "INFO:tensorflow:global_step/sec: 459.559\n",
      "INFO:tensorflow:loss = 179827100000.0, step = 17401 (0.218 sec)\n",
      "INFO:tensorflow:global_step/sec: 476.397\n",
      "INFO:tensorflow:loss = 47327400000.0, step = 17501 (0.211 sec)\n",
      "INFO:tensorflow:global_step/sec: 413.496\n",
      "INFO:tensorflow:loss = 194725330000.0, step = 17601 (0.241 sec)\n",
      "INFO:tensorflow:global_step/sec: 464.684\n",
      "INFO:tensorflow:loss = 70385480000.0, step = 17701 (0.214 sec)\n",
      "INFO:tensorflow:global_step/sec: 447.598\n",
      "INFO:tensorflow:loss = 59438060000.0, step = 17801 (0.225 sec)\n",
      "INFO:tensorflow:global_step/sec: 484.111\n",
      "INFO:tensorflow:loss = 107704975000.0, step = 17901 (0.205 sec)\n",
      "INFO:tensorflow:global_step/sec: 466.335\n",
      "INFO:tensorflow:loss = 52659126000.0, step = 18001 (0.215 sec)\n",
      "INFO:tensorflow:global_step/sec: 442.668\n",
      "INFO:tensorflow:loss = 127933520000.0, step = 18101 (0.225 sec)\n",
      "INFO:tensorflow:global_step/sec: 470.888\n",
      "INFO:tensorflow:loss = 94632670000.0, step = 18201 (0.212 sec)\n",
      "INFO:tensorflow:global_step/sec: 455.94\n",
      "INFO:tensorflow:loss = 93849990000.0, step = 18301 (0.220 sec)\n",
      "INFO:tensorflow:global_step/sec: 459.496\n",
      "INFO:tensorflow:loss = 169801560000.0, step = 18401 (0.218 sec)\n",
      "INFO:tensorflow:global_step/sec: 452.745\n",
      "INFO:tensorflow:loss = 102683165000.0, step = 18501 (0.221 sec)\n",
      "INFO:tensorflow:global_step/sec: 477.22\n",
      "INFO:tensorflow:loss = 134530970000.0, step = 18601 (0.209 sec)\n",
      "INFO:tensorflow:global_step/sec: 468.691\n",
      "INFO:tensorflow:loss = 30736800000.0, step = 18701 (0.213 sec)\n",
      "INFO:tensorflow:global_step/sec: 472.721\n",
      "INFO:tensorflow:loss = 207700340000.0, step = 18801 (0.211 sec)\n",
      "INFO:tensorflow:global_step/sec: 477.464\n",
      "INFO:tensorflow:loss = 71896826000.0, step = 18901 (0.210 sec)\n",
      "INFO:tensorflow:global_step/sec: 459.661\n",
      "INFO:tensorflow:loss = 196483480000.0, step = 19001 (0.217 sec)\n",
      "INFO:tensorflow:global_step/sec: 469.122\n",
      "INFO:tensorflow:loss = 56980100000.0, step = 19101 (0.213 sec)\n",
      "INFO:tensorflow:global_step/sec: 455.986\n",
      "INFO:tensorflow:loss = 46345912000.0, step = 19201 (0.219 sec)\n",
      "INFO:tensorflow:global_step/sec: 440.888\n",
      "INFO:tensorflow:loss = 218183750000.0, step = 19301 (0.227 sec)\n",
      "INFO:tensorflow:global_step/sec: 415.783\n",
      "INFO:tensorflow:loss = 63341593000.0, step = 19401 (0.241 sec)\n",
      "INFO:tensorflow:global_step/sec: 478.906\n",
      "INFO:tensorflow:loss = 125451170000.0, step = 19501 (0.209 sec)\n",
      "INFO:tensorflow:global_step/sec: 464.451\n",
      "INFO:tensorflow:loss = 57187766000.0, step = 19601 (0.216 sec)\n",
      "INFO:tensorflow:global_step/sec: 430.065\n",
      "INFO:tensorflow:loss = 89939470000.0, step = 19701 (0.232 sec)\n",
      "INFO:tensorflow:global_step/sec: 408.345\n",
      "INFO:tensorflow:loss = 44141580000.0, step = 19801 (0.246 sec)\n",
      "INFO:tensorflow:global_step/sec: 425.309\n",
      "INFO:tensorflow:loss = 54803046000.0, step = 19901 (0.238 sec)\n",
      "INFO:tensorflow:global_step/sec: 446.506\n",
      "INFO:tensorflow:loss = 123650070000.0, step = 20001 (0.223 sec)\n",
      "INFO:tensorflow:global_step/sec: 444.203\n",
      "INFO:tensorflow:loss = 147870470000.0, step = 20101 (0.225 sec)\n",
      "INFO:tensorflow:global_step/sec: 442.161\n",
      "INFO:tensorflow:loss = 92454280000.0, step = 20201 (0.224 sec)\n",
      "INFO:tensorflow:global_step/sec: 442.987\n",
      "INFO:tensorflow:loss = 105887850000.0, step = 20301 (0.226 sec)\n",
      "INFO:tensorflow:global_step/sec: 436.651\n",
      "INFO:tensorflow:loss = 62441353000.0, step = 20401 (0.229 sec)\n",
      "INFO:tensorflow:global_step/sec: 405.691\n",
      "INFO:tensorflow:loss = 39220298000.0, step = 20501 (0.246 sec)\n",
      "INFO:tensorflow:global_step/sec: 412.138\n",
      "INFO:tensorflow:loss = 139516970000.0, step = 20601 (0.243 sec)\n",
      "INFO:tensorflow:global_step/sec: 438.703\n",
      "INFO:tensorflow:loss = 67867795000.0, step = 20701 (0.228 sec)\n",
      "INFO:tensorflow:global_step/sec: 464.565\n",
      "INFO:tensorflow:loss = 166823400000.0, step = 20801 (0.215 sec)\n",
      "INFO:tensorflow:global_step/sec: 460.204\n",
      "INFO:tensorflow:loss = 81781380000.0, step = 20901 (0.217 sec)\n",
      "INFO:tensorflow:global_step/sec: 477.66\n",
      "INFO:tensorflow:loss = 115888090000.0, step = 21001 (0.209 sec)\n",
      "INFO:tensorflow:global_step/sec: 478.62\n",
      "INFO:tensorflow:loss = 163076260000.0, step = 21101 (0.209 sec)\n",
      "INFO:tensorflow:global_step/sec: 461.97\n",
      "INFO:tensorflow:loss = 55621920000.0, step = 21201 (0.216 sec)\n",
      "INFO:tensorflow:global_step/sec: 502.8\n",
      "INFO:tensorflow:loss = 33836978000.0, step = 21301 (0.199 sec)\n",
      "INFO:tensorflow:global_step/sec: 466.991\n",
      "INFO:tensorflow:loss = 51916194000.0, step = 21401 (0.215 sec)\n",
      "INFO:tensorflow:global_step/sec: 470.969\n",
      "INFO:tensorflow:loss = 43748684000.0, step = 21501 (0.212 sec)\n",
      "INFO:tensorflow:global_step/sec: 471.803\n",
      "INFO:tensorflow:loss = 40448328000.0, step = 21601 (0.212 sec)\n",
      "INFO:tensorflow:global_step/sec: 474.153\n",
      "INFO:tensorflow:loss = 73760460000.0, step = 21701 (0.211 sec)\n",
      "INFO:tensorflow:global_step/sec: 469.312\n",
      "INFO:tensorflow:loss = 31763808000.0, step = 21801 (0.213 sec)\n",
      "INFO:tensorflow:global_step/sec: 456.578\n",
      "INFO:tensorflow:loss = 59372640000.0, step = 21901 (0.219 sec)\n",
      "INFO:tensorflow:global_step/sec: 486.908\n",
      "INFO:tensorflow:loss = 176397220000.0, step = 22001 (0.205 sec)\n",
      "INFO:tensorflow:global_step/sec: 492.485\n",
      "INFO:tensorflow:loss = 122440220000.0, step = 22101 (0.203 sec)\n",
      "INFO:tensorflow:global_step/sec: 472.488\n",
      "INFO:tensorflow:loss = 67674940000.0, step = 22201 (0.212 sec)\n",
      "INFO:tensorflow:global_step/sec: 472.521\n",
      "INFO:tensorflow:loss = 54601220000.0, step = 22301 (0.212 sec)\n",
      "INFO:tensorflow:global_step/sec: 462.21\n",
      "INFO:tensorflow:loss = 83847725000.0, step = 22401 (0.216 sec)\n",
      "INFO:tensorflow:global_step/sec: 469.81\n",
      "INFO:tensorflow:loss = 119275720000.0, step = 22501 (0.213 sec)\n",
      "INFO:tensorflow:global_step/sec: 455.809\n",
      "INFO:tensorflow:loss = 95917030000.0, step = 22601 (0.219 sec)\n",
      "INFO:tensorflow:global_step/sec: 474.033\n",
      "INFO:tensorflow:loss = 57552617000.0, step = 22701 (0.213 sec)\n",
      "INFO:tensorflow:global_step/sec: 446.249\n",
      "INFO:tensorflow:loss = 157076680000.0, step = 22801 (0.222 sec)\n",
      "INFO:tensorflow:global_step/sec: 486.024\n",
      "INFO:tensorflow:loss = 53740732000.0, step = 22901 (0.207 sec)\n",
      "INFO:tensorflow:global_step/sec: 454.647\n",
      "INFO:tensorflow:loss = 73144860000.0, step = 23001 (0.218 sec)\n",
      "INFO:tensorflow:global_step/sec: 465.884\n",
      "INFO:tensorflow:loss = 112360050000.0, step = 23101 (0.215 sec)\n",
      "INFO:tensorflow:global_step/sec: 446.187\n",
      "INFO:tensorflow:loss = 104521190000.0, step = 23201 (0.225 sec)\n",
      "INFO:tensorflow:global_step/sec: 461.862\n",
      "INFO:tensorflow:loss = 38359278000.0, step = 23301 (0.215 sec)\n"
     ]
    },
    {
     "name": "stdout",
     "output_type": "stream",
     "text": [
      "INFO:tensorflow:global_step/sec: 456.565\n",
      "INFO:tensorflow:loss = 40560894000.0, step = 23401 (0.221 sec)\n",
      "INFO:tensorflow:global_step/sec: 466.816\n",
      "INFO:tensorflow:loss = 78723390000.0, step = 23501 (0.214 sec)\n",
      "INFO:tensorflow:global_step/sec: 439.404\n",
      "INFO:tensorflow:loss = 65366650000.0, step = 23601 (0.226 sec)\n",
      "INFO:tensorflow:global_step/sec: 434.958\n",
      "INFO:tensorflow:loss = 96243925000.0, step = 23701 (0.230 sec)\n",
      "INFO:tensorflow:global_step/sec: 476.965\n",
      "INFO:tensorflow:loss = 38338900000.0, step = 23801 (0.210 sec)\n",
      "INFO:tensorflow:global_step/sec: 473.772\n",
      "INFO:tensorflow:loss = 54353744000.0, step = 23901 (0.211 sec)\n",
      "INFO:tensorflow:global_step/sec: 472.561\n",
      "INFO:tensorflow:loss = 89936140000.0, step = 24001 (0.212 sec)\n",
      "INFO:tensorflow:global_step/sec: 472.259\n",
      "INFO:tensorflow:loss = 123741390000.0, step = 24101 (0.212 sec)\n",
      "INFO:tensorflow:global_step/sec: 482.049\n",
      "INFO:tensorflow:loss = 112427730000.0, step = 24201 (0.207 sec)\n",
      "INFO:tensorflow:global_step/sec: 479.635\n",
      "INFO:tensorflow:loss = 63072395000.0, step = 24301 (0.208 sec)\n",
      "INFO:tensorflow:global_step/sec: 471.231\n",
      "INFO:tensorflow:loss = 37797790000.0, step = 24401 (0.212 sec)\n",
      "INFO:tensorflow:global_step/sec: 458.041\n",
      "INFO:tensorflow:loss = 60942864000.0, step = 24501 (0.218 sec)\n",
      "INFO:tensorflow:global_step/sec: 464.507\n",
      "INFO:tensorflow:loss = 55151608000.0, step = 24601 (0.215 sec)\n",
      "INFO:tensorflow:global_step/sec: 459.457\n",
      "INFO:tensorflow:loss = 62877925000.0, step = 24701 (0.218 sec)\n",
      "INFO:tensorflow:global_step/sec: 422.572\n",
      "INFO:tensorflow:loss = 113987150000.0, step = 24801 (0.238 sec)\n",
      "INFO:tensorflow:global_step/sec: 444.157\n",
      "INFO:tensorflow:loss = 222462510000.0, step = 24901 (0.224 sec)\n",
      "INFO:tensorflow:Saving checkpoints for 25000 into /var/folders/28/6fl1s6897q17ww4ypjgd5p540000gn/T/tmpmjnd2_uk/model.ckpt.\n",
      "INFO:tensorflow:Loss for final step: 57008857000.0.\n"
     ]
    },
    {
     "data": {
      "text/plain": [
       "<tensorflow.python.estimator.canned.dnn.DNNRegressor at 0x113511f60>"
      ]
     },
     "execution_count": 50,
     "metadata": {},
     "output_type": "execute_result"
    }
   ],
   "source": [
    "model.train(input_fn=input_func,steps=25000)"
   ]
  },
  {
   "cell_type": "markdown",
   "metadata": {},
   "source": [
    "** Create a prediction input function and then use the .predict method off your estimator model to create a list or predictions on your test data. **"
   ]
  },
  {
   "cell_type": "code",
   "execution_count": 51,
   "metadata": {},
   "outputs": [],
   "source": [
    "predict_input_func = tf.estimator.inputs.pandas_input_fn(\n",
    "      x=X_test,\n",
    "      batch_size=10,\n",
    "      num_epochs=1,\n",
    "      shuffle=False)"
   ]
  },
  {
   "cell_type": "code",
   "execution_count": 52,
   "metadata": {},
   "outputs": [],
   "source": [
    "pred_gen = model.predict(predict_input_func)"
   ]
  },
  {
   "cell_type": "code",
   "execution_count": 53,
   "metadata": {},
   "outputs": [
    {
     "name": "stdout",
     "output_type": "stream",
     "text": [
      "INFO:tensorflow:Calling model_fn.\n",
      "INFO:tensorflow:Done calling model_fn.\n",
      "INFO:tensorflow:Graph was finalized.\n",
      "INFO:tensorflow:Restoring parameters from /var/folders/28/6fl1s6897q17ww4ypjgd5p540000gn/T/tmpmjnd2_uk/model.ckpt-25000\n",
      "INFO:tensorflow:Running local_init_op.\n",
      "INFO:tensorflow:Done running local_init_op.\n"
     ]
    }
   ],
   "source": [
    "predictions = list(pred_gen)"
   ]
  },
  {
   "cell_type": "markdown",
   "metadata": {},
   "source": [
    "** Calculate the RMSE. Do this manually or use [sklearn.metrics](http://scikit-learn.org/stable/modules/generated/sklearn.metrics.mean_squared_error.html) **"
   ]
  },
  {
   "cell_type": "code",
   "execution_count": 59,
   "metadata": {},
   "outputs": [],
   "source": [
    "final_preds = []\n",
    "for pred in predictions:\n",
    "    final_preds.append(pred['predictions'])"
   ]
  },
  {
   "cell_type": "code",
   "execution_count": 60,
   "metadata": {},
   "outputs": [],
   "source": [
    "from sklearn.metrics import mean_squared_error"
   ]
  },
  {
   "cell_type": "code",
   "execution_count": 61,
   "metadata": {},
   "outputs": [
    {
     "data": {
      "text/plain": [
       "98097.15443308598"
      ]
     },
     "execution_count": 61,
     "metadata": {},
     "output_type": "execute_result"
    }
   ],
   "source": [
    "mean_squared_error(y_test,final_preds)**0.5"
   ]
  },
  {
   "cell_type": "markdown",
   "metadata": {},
   "source": [
    "# Great Job!"
   ]
  }
 ],
 "metadata": {
  "kernelspec": {
   "display_name": "Python 3",
   "language": "python",
   "name": "python3"
  },
  "language_info": {
   "codemirror_mode": {
    "name": "ipython",
    "version": 3
   },
   "file_extension": ".py",
   "mimetype": "text/x-python",
   "name": "python",
   "nbconvert_exporter": "python",
   "pygments_lexer": "ipython3",
   "version": "3.6.4"
  }
 },
 "nbformat": 4,
 "nbformat_minor": 2
}

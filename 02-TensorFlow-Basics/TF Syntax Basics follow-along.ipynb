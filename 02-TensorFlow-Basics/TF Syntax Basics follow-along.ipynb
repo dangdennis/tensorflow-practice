{
 "cells": [
  {
   "cell_type": "code",
   "execution_count": 44,
   "metadata": {},
   "outputs": [],
   "source": [
    "import tensorflow as tf"
   ]
  },
  {
   "cell_type": "code",
   "execution_count": 45,
   "metadata": {},
   "outputs": [
    {
     "name": "stdout",
     "output_type": "stream",
     "text": [
      "1.7.1\n"
     ]
    }
   ],
   "source": [
    "print(tf.__version__)"
   ]
  },
  {
   "cell_type": "code",
   "execution_count": 46,
   "metadata": {},
   "outputs": [],
   "source": [
    "hello = tf.constant(\"Hello \")"
   ]
  },
  {
   "cell_type": "code",
   "execution_count": 47,
   "metadata": {},
   "outputs": [],
   "source": [
    "world = tf.constant(\"World\")"
   ]
  },
  {
   "cell_type": "code",
   "execution_count": 48,
   "metadata": {},
   "outputs": [
    {
     "name": "stdout",
     "output_type": "stream",
     "text": [
      "Tensor(\"Const_11:0\", shape=(), dtype=string)\n"
     ]
    }
   ],
   "source": [
    "print(hello)"
   ]
  },
  {
   "cell_type": "code",
   "execution_count": 49,
   "metadata": {},
   "outputs": [],
   "source": [
    "with tf.Session() as sess:\n",
    "    result = sess.run(hello+world)"
   ]
  },
  {
   "cell_type": "code",
   "execution_count": 50,
   "metadata": {},
   "outputs": [
    {
     "name": "stdout",
     "output_type": "stream",
     "text": [
      "b'Hello World'\n"
     ]
    }
   ],
   "source": [
    "print(result)\n"
   ]
  },
  {
   "cell_type": "code",
   "execution_count": 51,
   "metadata": {},
   "outputs": [],
   "source": [
    "a = tf.constant(10)\n",
    "b = tf.constant(20)\n",
    "\n",
    "with tf.Session() as sess:\n",
    "    res = sess.run(a + b)"
   ]
  },
  {
   "cell_type": "code",
   "execution_count": 52,
   "metadata": {},
   "outputs": [
    {
     "name": "stdout",
     "output_type": "stream",
     "text": [
      "30\n"
     ]
    }
   ],
   "source": [
    "print(res)"
   ]
  },
  {
   "cell_type": "code",
   "execution_count": 53,
   "metadata": {},
   "outputs": [],
   "source": [
    "const = tf.constant(10)"
   ]
  },
  {
   "cell_type": "code",
   "execution_count": 54,
   "metadata": {},
   "outputs": [],
   "source": [
    "fill_mat = tf.fill((4,4), 10)"
   ]
  },
  {
   "cell_type": "code",
   "execution_count": 55,
   "metadata": {},
   "outputs": [
    {
     "name": "stdout",
     "output_type": "stream",
     "text": [
      "[[10 10 10 10]\n",
      " [10 10 10 10]\n",
      " [10 10 10 10]\n",
      " [10 10 10 10]]\n"
     ]
    }
   ],
   "source": [
    "with tf.Session() as sess:\n",
    "    res = sess.run(fill_mat)\n",
    "print(res)"
   ]
  },
  {
   "cell_type": "code",
   "execution_count": 56,
   "metadata": {},
   "outputs": [
    {
     "name": "stdout",
     "output_type": "stream",
     "text": [
      "[[0. 0. 0. 0.]\n",
      " [0. 0. 0. 0.]\n",
      " [0. 0. 0. 0.]\n",
      " [0. 0. 0. 0.]]\n"
     ]
    }
   ],
   "source": [
    "myzeroes = tf.zeros((4,4))\n",
    "with tf.Session() as sess:\n",
    "    res = sess.run(myzeroes)\n",
    "print(res)"
   ]
  },
  {
   "cell_type": "code",
   "execution_count": 57,
   "metadata": {},
   "outputs": [
    {
     "name": "stdout",
     "output_type": "stream",
     "text": [
      "[[1. 1. 1. 1.]\n",
      " [1. 1. 1. 1.]\n",
      " [1. 1. 1. 1.]\n",
      " [1. 1. 1. 1.]]\n"
     ]
    }
   ],
   "source": [
    "myones = tf.ones((4,4))\n",
    "with tf.Session() as sess:\n",
    "    res = sess.run(myones)\n",
    "print(res)"
   ]
  },
  {
   "cell_type": "code",
   "execution_count": 58,
   "metadata": {},
   "outputs": [
    {
     "name": "stdout",
     "output_type": "stream",
     "text": [
      "[[-1.4060792e-01  1.0575157e+00  1.7626245e-01  7.5979531e-04]\n",
      " [-5.8559543e-01 -1.0615784e+00  5.2627099e-01 -8.3335346e-01]\n",
      " [ 2.7985245e-01 -1.1931949e+00 -3.1818357e-01 -5.7108521e-01]\n",
      " [ 3.4402674e-01  3.8516742e-01  6.5615928e-01  1.9380529e-01]]\n"
     ]
    }
   ],
   "source": [
    "normal_randoms = tf.random_normal((4,4))\n",
    "with tf.Session() as sess:\n",
    "    \n",
    "    res = sess.run(normal_randoms)\n",
    "print(res)"
   ]
  },
  {
   "cell_type": "code",
   "execution_count": 59,
   "metadata": {},
   "outputs": [
    {
     "name": "stdout",
     "output_type": "stream",
     "text": [
      "[[0.12464595 0.6789985  0.50096905 0.32997668]\n",
      " [0.24787712 0.3959248  0.25554454 0.68570375]\n",
      " [0.5421909  0.11039388 0.87776196 0.69085073]\n",
      " [0.75365424 0.7971027  0.9883541  0.2420119 ]]\n"
     ]
    }
   ],
   "source": [
    "uniform_randoms = tf.random_uniform((4,4), minval=0, maxval=1)\n",
    "with tf.Session() as sess:\n",
    "    res = sess.run(uniform_randoms)\n",
    "print(res)"
   ]
  },
  {
   "cell_type": "code",
   "execution_count": 60,
   "metadata": {},
   "outputs": [],
   "source": [
    "# cells after this will run with session active\n",
    "sess = tf.InteractiveSession()\n",
    "my_ops = [const, myzeroes, myones, normal_randoms, uniform_randoms ]"
   ]
  },
  {
   "cell_type": "code",
   "execution_count": 61,
   "metadata": {},
   "outputs": [
    {
     "name": "stdout",
     "output_type": "stream",
     "text": [
      "10\n",
      "[[0. 0. 0. 0.]\n",
      " [0. 0. 0. 0.]\n",
      " [0. 0. 0. 0.]\n",
      " [0. 0. 0. 0.]]\n",
      "[[1. 1. 1. 1.]\n",
      " [1. 1. 1. 1.]\n",
      " [1. 1. 1. 1.]\n",
      " [1. 1. 1. 1.]]\n",
      "[[ 0.36345276 -0.31102288 -0.07975826 -1.3227974 ]\n",
      " [ 1.630768    1.5551953  -0.04163273 -0.7404518 ]\n",
      " [ 0.19835897 -0.3440192  -0.8916227  -0.30974695]\n",
      " [ 0.05650728 -0.01787544 -0.26677772  0.334876  ]]\n",
      "[[0.95890105 0.21326208 0.36324787 0.3335111 ]\n",
      " [0.44293237 0.14312398 0.4185865  0.9701394 ]\n",
      " [0.85085416 0.32227457 0.87501264 0.4504949 ]\n",
      " [0.60826945 0.5015508  0.58633506 0.1273992 ]]\n"
     ]
    }
   ],
   "source": [
    "for op in my_ops:\n",
    "    print(sess.run(op))"
   ]
  }
 ],
 "metadata": {
  "kernelspec": {
   "display_name": "Python 3",
   "language": "python",
   "name": "python3"
  },
  "language_info": {
   "codemirror_mode": {
    "name": "ipython",
    "version": 3
   },
   "file_extension": ".py",
   "mimetype": "text/x-python",
   "name": "python",
   "nbconvert_exporter": "python",
   "pygments_lexer": "ipython3",
   "version": "3.6.4"
  }
 },
 "nbformat": 4,
 "nbformat_minor": 2
}

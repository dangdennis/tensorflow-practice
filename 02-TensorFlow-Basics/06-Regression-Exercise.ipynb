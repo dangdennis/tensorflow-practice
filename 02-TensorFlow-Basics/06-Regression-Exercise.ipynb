{
 "cells": [
  {
   "cell_type": "markdown",
   "metadata": {},
   "source": [
    "# Regression Exercise \n",
    "\n",
    "California Housing Data\n",
    "\n",
    "This data set contains information about all the block groups in California from the 1990 Census. In this sample a block group on average includes 1425.5 individuals living in a geographically compact area. \n",
    "\n",
    "The task is to aproximate the median house value of each block from the values of the rest of the variables. \n",
    "\n",
    " It has been obtained from the LIACC repository. The original page where the data set can be found is: http://www.liaad.up.pt/~ltorgo/Regression/DataSets.html.\n",
    " "
   ]
  },
  {
   "cell_type": "markdown",
   "metadata": {
    "collapsed": true
   },
   "source": [
    "The Features:\n",
    " \n",
    "* housingMedianAge: continuous. \n",
    "* totalRooms: continuous. \n",
    "* totalBedrooms: continuous. \n",
    "* population: continuous. \n",
    "* households: continuous. \n",
    "* medianIncome: continuous. \n",
    "* medianHouseValue: continuous. "
   ]
  },
  {
   "cell_type": "markdown",
   "metadata": {},
   "source": [
    "## The Data"
   ]
  },
  {
   "cell_type": "markdown",
   "metadata": {},
   "source": [
    "** Import the cal_housing_clean.csv file with pandas. Separate it into a training (70%) and testing set(30%).**"
   ]
  },
  {
   "cell_type": "code",
   "execution_count": 128,
   "metadata": {},
   "outputs": [],
   "source": [
    "import pandas as pd\n",
    "from sklearn.model_selection import train_test_split"
   ]
  },
  {
   "cell_type": "code",
   "execution_count": 129,
   "metadata": {},
   "outputs": [],
   "source": [
    "x_features = pd.read_csv('cal_housing_clean.csv')\n",
    "y_labels = x_features['medianHouseValue']\n",
    "x_features = x_features.drop(['medianHouseValue'], axis=1)"
   ]
  },
  {
   "cell_type": "code",
   "execution_count": 130,
   "metadata": {},
   "outputs": [],
   "source": [
    "X_train, X_test, y_train, y_test = train_test_split(x_features, y_labels, test_size=0.3, random_state=101)"
   ]
  },
  {
   "cell_type": "code",
   "execution_count": 131,
   "metadata": {},
   "outputs": [
    {
     "data": {
      "text/plain": [
       "Index(['housingMedianAge', 'totalRooms', 'totalBedrooms', 'population',\n",
       "       'households', 'medianIncome'],\n",
       "      dtype='object')"
      ]
     },
     "execution_count": 131,
     "metadata": {},
     "output_type": "execute_result"
    }
   ],
   "source": [
    "x_features.describe()\n",
    "x_features.columns"
   ]
  },
  {
   "cell_type": "code",
   "execution_count": null,
   "metadata": {},
   "outputs": [],
   "source": []
  },
  {
   "cell_type": "markdown",
   "metadata": {},
   "source": [
    "### Scale the Feature Data\n",
    "\n",
    "** Use sklearn preprocessing to create a MinMaxScaler for the feature data. Fit this scaler only to the training data. Then use it to transform X_test and X_train. Then use the scaled X_test and X_train along with pd.Dataframe to re-create two dataframes of scaled data.**"
   ]
  },
  {
   "cell_type": "code",
   "execution_count": 132,
   "metadata": {},
   "outputs": [],
   "source": [
    "from sklearn.preprocessing import MinMaxScaler"
   ]
  },
  {
   "cell_type": "code",
   "execution_count": 133,
   "metadata": {},
   "outputs": [],
   "source": [
    "scaler = MinMaxScaler()"
   ]
  },
  {
   "cell_type": "code",
   "execution_count": 134,
   "metadata": {},
   "outputs": [
    {
     "data": {
      "text/plain": [
       "MinMaxScaler(copy=True, feature_range=(0, 1))"
      ]
     },
     "execution_count": 134,
     "metadata": {},
     "output_type": "execute_result"
    }
   ],
   "source": [
    "scaler.fit(X_train)"
   ]
  },
  {
   "cell_type": "code",
   "execution_count": 135,
   "metadata": {},
   "outputs": [],
   "source": [
    "X_train = pd.DataFrame(data=scaler.transform(X_train), columns=X_train.columns, index=X_train.index)\n",
    "X_test = pd.DataFrame(data=scaler.transform(X_test), columns=X_test.columns, index=X_test.index)"
   ]
  },
  {
   "cell_type": "markdown",
   "metadata": {},
   "source": [
    "### Create Feature Columns\n",
    "\n",
    "** Create the necessary tf.feature_column objects for the estimator. They should all be trated as continuous numeric_columns. **"
   ]
  },
  {
   "cell_type": "code",
   "execution_count": 136,
   "metadata": {},
   "outputs": [],
   "source": [
    "import tensorflow as tf"
   ]
  },
  {
   "cell_type": "code",
   "execution_count": 137,
   "metadata": {},
   "outputs": [
    {
     "data": {
      "text/plain": [
       "[_NumericColumn(key='housingMedianAge', shape=(1,), default_value=None, dtype=tf.float32, normalizer_fn=None),\n",
       " _NumericColumn(key='totalRooms', shape=(1,), default_value=None, dtype=tf.float32, normalizer_fn=None),\n",
       " _NumericColumn(key='totalBedrooms', shape=(1,), default_value=None, dtype=tf.float32, normalizer_fn=None),\n",
       " _NumericColumn(key='population', shape=(1,), default_value=None, dtype=tf.float32, normalizer_fn=None),\n",
       " _NumericColumn(key='households', shape=(1,), default_value=None, dtype=tf.float32, normalizer_fn=None),\n",
       " _NumericColumn(key='medianIncome', shape=(1,), default_value=None, dtype=tf.float32, normalizer_fn=None)]"
      ]
     },
     "execution_count": 137,
     "metadata": {},
     "output_type": "execute_result"
    }
   ],
   "source": [
    "feature_columns = []\n",
    "\n",
    "for column in x_features.columns:\n",
    "    feature_columns.append(tf.feature_column.numeric_column(column))\n",
    "\n",
    "feature_columns"
   ]
  },
  {
   "cell_type": "markdown",
   "metadata": {},
   "source": [
    "** Create the input function for the estimator object. (play around with batch_size and num_epochs)**"
   ]
  },
  {
   "cell_type": "code",
   "execution_count": 138,
   "metadata": {},
   "outputs": [],
   "source": [
    "input_fn = tf.estimator.inputs.pandas_input_fn(x=X_train, y=y_train, batch_size=10, num_epochs=100, shuffle=True)"
   ]
  },
  {
   "cell_type": "markdown",
   "metadata": {},
   "source": [
    "** Create the estimator model. Use a DNNRegressor. Play around with the hidden units! **"
   ]
  },
  {
   "cell_type": "code",
   "execution_count": 139,
   "metadata": {},
   "outputs": [
    {
     "name": "stdout",
     "output_type": "stream",
     "text": [
      "INFO:tensorflow:Using default config.\n",
      "WARNING:tensorflow:Using temporary folder as model directory: /var/folders/28/6fl1s6897q17ww4ypjgd5p540000gn/T/tmp30c08o5z\n",
      "INFO:tensorflow:Using config: {'_model_dir': '/var/folders/28/6fl1s6897q17ww4ypjgd5p540000gn/T/tmp30c08o5z', '_tf_random_seed': None, '_save_summary_steps': 100, '_save_checkpoints_steps': None, '_save_checkpoints_secs': 600, '_session_config': None, '_keep_checkpoint_max': 5, '_keep_checkpoint_every_n_hours': 10000, '_log_step_count_steps': 100, '_train_distribute': None, '_service': None, '_cluster_spec': <tensorflow.python.training.server_lib.ClusterSpec object at 0x1a25c5e7b8>, '_task_type': 'worker', '_task_id': 0, '_global_id_in_cluster': 0, '_master': '', '_evaluation_master': '', '_is_chief': True, '_num_ps_replicas': 0, '_num_worker_replicas': 1}\n"
     ]
    }
   ],
   "source": [
    "estimator = tf.estimator.DNNRegressor(feature_columns=feature_columns, hidden_units=[6, 6, 6])"
   ]
  },
  {
   "cell_type": "markdown",
   "metadata": {},
   "source": [
    "##### ** Train the model for ~1,000 steps. (Later come back to this and train it for more and check for improvement) **"
   ]
  },
  {
   "cell_type": "code",
   "execution_count": 140,
   "metadata": {},
   "outputs": [
    {
     "name": "stdout",
     "output_type": "stream",
     "text": [
      "INFO:tensorflow:Calling model_fn.\n",
      "INFO:tensorflow:Done calling model_fn.\n",
      "INFO:tensorflow:Create CheckpointSaverHook.\n",
      "INFO:tensorflow:Graph was finalized.\n",
      "INFO:tensorflow:Running local_init_op.\n",
      "INFO:tensorflow:Done running local_init_op.\n",
      "INFO:tensorflow:Saving checkpoints for 1 into /var/folders/28/6fl1s6897q17ww4ypjgd5p540000gn/T/tmp30c08o5z/model.ckpt.\n",
      "INFO:tensorflow:loss = 298439930000.0, step = 1\n",
      "INFO:tensorflow:global_step/sec: 359.445\n",
      "INFO:tensorflow:loss = 324357100000.0, step = 101 (0.281 sec)\n",
      "INFO:tensorflow:global_step/sec: 472.25\n",
      "INFO:tensorflow:loss = 458591080000.0, step = 201 (0.211 sec)\n",
      "INFO:tensorflow:global_step/sec: 462.813\n",
      "INFO:tensorflow:loss = 659740560000.0, step = 301 (0.217 sec)\n",
      "INFO:tensorflow:global_step/sec: 455.299\n",
      "INFO:tensorflow:loss = 187846790000.0, step = 401 (0.219 sec)\n",
      "INFO:tensorflow:global_step/sec: 468.441\n",
      "INFO:tensorflow:loss = 332876940000.0, step = 501 (0.212 sec)\n",
      "INFO:tensorflow:global_step/sec: 458.396\n",
      "INFO:tensorflow:loss = 93790134000.0, step = 601 (0.219 sec)\n",
      "INFO:tensorflow:global_step/sec: 456.586\n",
      "INFO:tensorflow:loss = 387796400000.0, step = 701 (0.217 sec)\n",
      "INFO:tensorflow:global_step/sec: 443.204\n",
      "INFO:tensorflow:loss = 30727897000.0, step = 801 (0.225 sec)\n",
      "INFO:tensorflow:global_step/sec: 455.769\n",
      "INFO:tensorflow:loss = 65534820000.0, step = 901 (0.220 sec)\n",
      "INFO:tensorflow:global_step/sec: 431.578\n",
      "INFO:tensorflow:loss = 91541190000.0, step = 1001 (0.232 sec)\n",
      "INFO:tensorflow:global_step/sec: 428.367\n",
      "INFO:tensorflow:loss = 75203860000.0, step = 1101 (0.233 sec)\n",
      "INFO:tensorflow:global_step/sec: 432.925\n",
      "INFO:tensorflow:loss = 70379410000.0, step = 1201 (0.231 sec)\n",
      "INFO:tensorflow:global_step/sec: 453.603\n",
      "INFO:tensorflow:loss = 136757480000.0, step = 1301 (0.221 sec)\n",
      "INFO:tensorflow:global_step/sec: 432.803\n",
      "INFO:tensorflow:loss = 135215235000.0, step = 1401 (0.234 sec)\n",
      "INFO:tensorflow:global_step/sec: 405.065\n",
      "INFO:tensorflow:loss = 123979510000.0, step = 1501 (0.244 sec)\n",
      "INFO:tensorflow:global_step/sec: 478.439\n",
      "INFO:tensorflow:loss = 215612650000.0, step = 1601 (0.211 sec)\n",
      "INFO:tensorflow:global_step/sec: 455.965\n",
      "INFO:tensorflow:loss = 48846475000.0, step = 1701 (0.217 sec)\n",
      "INFO:tensorflow:global_step/sec: 449.267\n",
      "INFO:tensorflow:loss = 57175773000.0, step = 1801 (0.223 sec)\n",
      "INFO:tensorflow:global_step/sec: 469.755\n",
      "INFO:tensorflow:loss = 89089720000.0, step = 1901 (0.213 sec)\n",
      "INFO:tensorflow:global_step/sec: 453.47\n",
      "INFO:tensorflow:loss = 19758354000.0, step = 2001 (0.220 sec)\n",
      "INFO:tensorflow:global_step/sec: 446.741\n",
      "INFO:tensorflow:loss = 195718150000.0, step = 2101 (0.224 sec)\n",
      "INFO:tensorflow:global_step/sec: 439.055\n",
      "INFO:tensorflow:loss = 153545280000.0, step = 2201 (0.228 sec)\n",
      "INFO:tensorflow:global_step/sec: 441.232\n",
      "INFO:tensorflow:loss = 42337047000.0, step = 2301 (0.226 sec)\n",
      "INFO:tensorflow:global_step/sec: 479.632\n",
      "INFO:tensorflow:loss = 30994092000.0, step = 2401 (0.208 sec)\n",
      "INFO:tensorflow:global_step/sec: 446.782\n",
      "INFO:tensorflow:loss = 204054660000.0, step = 2501 (0.224 sec)\n",
      "INFO:tensorflow:global_step/sec: 484.121\n",
      "INFO:tensorflow:loss = 49900933000.0, step = 2601 (0.206 sec)\n",
      "INFO:tensorflow:global_step/sec: 449.744\n",
      "INFO:tensorflow:loss = 152065600000.0, step = 2701 (0.222 sec)\n",
      "INFO:tensorflow:global_step/sec: 441.581\n",
      "INFO:tensorflow:loss = 128433430000.0, step = 2801 (0.229 sec)\n",
      "INFO:tensorflow:global_step/sec: 417.617\n",
      "INFO:tensorflow:loss = 82890285000.0, step = 2901 (0.238 sec)\n",
      "INFO:tensorflow:global_step/sec: 451.963\n",
      "INFO:tensorflow:loss = 87696770000.0, step = 3001 (0.220 sec)\n",
      "INFO:tensorflow:global_step/sec: 486.173\n",
      "INFO:tensorflow:loss = 88888600000.0, step = 3101 (0.206 sec)\n",
      "INFO:tensorflow:global_step/sec: 449.404\n",
      "INFO:tensorflow:loss = 86770565000.0, step = 3201 (0.222 sec)\n",
      "INFO:tensorflow:global_step/sec: 444.143\n",
      "INFO:tensorflow:loss = 111531290000.0, step = 3301 (0.225 sec)\n",
      "INFO:tensorflow:global_step/sec: 475.54\n",
      "INFO:tensorflow:loss = 78966860000.0, step = 3401 (0.210 sec)\n",
      "INFO:tensorflow:global_step/sec: 465.721\n",
      "INFO:tensorflow:loss = 43197157000.0, step = 3501 (0.215 sec)\n",
      "INFO:tensorflow:global_step/sec: 406.827\n",
      "INFO:tensorflow:loss = 32282747000.0, step = 3601 (0.249 sec)\n",
      "INFO:tensorflow:global_step/sec: 434.773\n",
      "INFO:tensorflow:loss = 91656340000.0, step = 3701 (0.229 sec)\n",
      "INFO:tensorflow:global_step/sec: 446.435\n",
      "INFO:tensorflow:loss = 129580970000.0, step = 3801 (0.224 sec)\n",
      "INFO:tensorflow:global_step/sec: 434.601\n",
      "INFO:tensorflow:loss = 76226060000.0, step = 3901 (0.230 sec)\n",
      "INFO:tensorflow:global_step/sec: 418.485\n",
      "INFO:tensorflow:loss = 68868640000.0, step = 4001 (0.236 sec)\n",
      "INFO:tensorflow:global_step/sec: 481.411\n",
      "INFO:tensorflow:loss = 84989470000.0, step = 4101 (0.209 sec)\n",
      "INFO:tensorflow:global_step/sec: 472.099\n",
      "INFO:tensorflow:loss = 155551000000.0, step = 4201 (0.211 sec)\n",
      "INFO:tensorflow:global_step/sec: 475.635\n",
      "INFO:tensorflow:loss = 163409870000.0, step = 4301 (0.210 sec)\n",
      "INFO:tensorflow:global_step/sec: 421.697\n",
      "INFO:tensorflow:loss = 121449530000.0, step = 4401 (0.237 sec)\n",
      "INFO:tensorflow:global_step/sec: 423.63\n",
      "INFO:tensorflow:loss = 83579085000.0, step = 4501 (0.236 sec)\n",
      "INFO:tensorflow:global_step/sec: 453.063\n",
      "INFO:tensorflow:loss = 132329830000.0, step = 4601 (0.223 sec)\n",
      "INFO:tensorflow:global_step/sec: 432.217\n",
      "INFO:tensorflow:loss = 307105100000.0, step = 4701 (0.229 sec)\n",
      "INFO:tensorflow:global_step/sec: 486.791\n",
      "INFO:tensorflow:loss = 68937300000.0, step = 4801 (0.207 sec)\n",
      "INFO:tensorflow:global_step/sec: 412.103\n",
      "INFO:tensorflow:loss = 89339890000.0, step = 4901 (0.241 sec)\n",
      "INFO:tensorflow:global_step/sec: 449.908\n",
      "INFO:tensorflow:loss = 184715400000.0, step = 5001 (0.222 sec)\n",
      "INFO:tensorflow:global_step/sec: 480.014\n",
      "INFO:tensorflow:loss = 81256770000.0, step = 5101 (0.208 sec)\n",
      "INFO:tensorflow:global_step/sec: 444.16\n",
      "INFO:tensorflow:loss = 137346710000.0, step = 5201 (0.226 sec)\n",
      "INFO:tensorflow:global_step/sec: 464.909\n",
      "INFO:tensorflow:loss = 56392073000.0, step = 5301 (0.215 sec)\n",
      "INFO:tensorflow:global_step/sec: 477.776\n",
      "INFO:tensorflow:loss = 63620840000.0, step = 5401 (0.209 sec)\n",
      "INFO:tensorflow:global_step/sec: 484.672\n",
      "INFO:tensorflow:loss = 35850486000.0, step = 5501 (0.206 sec)\n",
      "INFO:tensorflow:global_step/sec: 467.713\n",
      "INFO:tensorflow:loss = 176565350000.0, step = 5601 (0.214 sec)\n",
      "INFO:tensorflow:global_step/sec: 457.76\n",
      "INFO:tensorflow:loss = 141076480000.0, step = 5701 (0.218 sec)\n",
      "INFO:tensorflow:global_step/sec: 460.361\n",
      "INFO:tensorflow:loss = 114248080000.0, step = 5801 (0.218 sec)\n",
      "INFO:tensorflow:global_step/sec: 468.588\n",
      "INFO:tensorflow:loss = 69390440000.0, step = 5901 (0.213 sec)\n",
      "INFO:tensorflow:global_step/sec: 463.635\n",
      "INFO:tensorflow:loss = 102279905000.0, step = 6001 (0.216 sec)\n",
      "INFO:tensorflow:global_step/sec: 471.389\n",
      "INFO:tensorflow:loss = 113181200000.0, step = 6101 (0.212 sec)\n",
      "INFO:tensorflow:global_step/sec: 463.956\n",
      "INFO:tensorflow:loss = 122077870000.0, step = 6201 (0.215 sec)\n",
      "INFO:tensorflow:global_step/sec: 455.104\n",
      "INFO:tensorflow:loss = 28759284000.0, step = 6301 (0.220 sec)\n",
      "INFO:tensorflow:global_step/sec: 460.136\n",
      "INFO:tensorflow:loss = 116214645000.0, step = 6401 (0.217 sec)\n",
      "INFO:tensorflow:global_step/sec: 460.371\n",
      "INFO:tensorflow:loss = 44603544000.0, step = 6501 (0.217 sec)\n",
      "INFO:tensorflow:global_step/sec: 447.678\n",
      "INFO:tensorflow:loss = 123011890000.0, step = 6601 (0.223 sec)\n",
      "INFO:tensorflow:global_step/sec: 472.067\n",
      "INFO:tensorflow:loss = 120680550000.0, step = 6701 (0.212 sec)\n",
      "INFO:tensorflow:global_step/sec: 446.656\n",
      "INFO:tensorflow:loss = 127145660000.0, step = 6801 (0.224 sec)\n",
      "INFO:tensorflow:global_step/sec: 504.276\n",
      "INFO:tensorflow:loss = 103330726000.0, step = 6901 (0.198 sec)\n",
      "INFO:tensorflow:global_step/sec: 483.673\n",
      "INFO:tensorflow:loss = 96100835000.0, step = 7001 (0.207 sec)\n",
      "INFO:tensorflow:global_step/sec: 455.805\n",
      "INFO:tensorflow:loss = 43226820000.0, step = 7101 (0.219 sec)\n",
      "INFO:tensorflow:global_step/sec: 462.753\n",
      "INFO:tensorflow:loss = 121662260000.0, step = 7201 (0.216 sec)\n",
      "INFO:tensorflow:global_step/sec: 451.175\n",
      "INFO:tensorflow:loss = 73178610000.0, step = 7301 (0.222 sec)\n",
      "INFO:tensorflow:global_step/sec: 464.306\n",
      "INFO:tensorflow:loss = 85293020000.0, step = 7401 (0.215 sec)\n",
      "INFO:tensorflow:global_step/sec: 467.681\n",
      "INFO:tensorflow:loss = 68709230000.0, step = 7501 (0.214 sec)\n",
      "INFO:tensorflow:global_step/sec: 469.395\n",
      "INFO:tensorflow:loss = 44086624000.0, step = 7601 (0.213 sec)\n"
     ]
    },
    {
     "name": "stdout",
     "output_type": "stream",
     "text": [
      "INFO:tensorflow:global_step/sec: 467.716\n",
      "INFO:tensorflow:loss = 186887470000.0, step = 7701 (0.214 sec)\n",
      "INFO:tensorflow:global_step/sec: 466.919\n",
      "INFO:tensorflow:loss = 108268890000.0, step = 7801 (0.214 sec)\n",
      "INFO:tensorflow:global_step/sec: 472.833\n",
      "INFO:tensorflow:loss = 54265840000.0, step = 7901 (0.212 sec)\n",
      "INFO:tensorflow:global_step/sec: 489.586\n",
      "INFO:tensorflow:loss = 96853570000.0, step = 8001 (0.204 sec)\n",
      "INFO:tensorflow:global_step/sec: 500.536\n",
      "INFO:tensorflow:loss = 214787640000.0, step = 8101 (0.200 sec)\n",
      "INFO:tensorflow:global_step/sec: 485.077\n",
      "INFO:tensorflow:loss = 128625800000.0, step = 8201 (0.207 sec)\n",
      "INFO:tensorflow:global_step/sec: 489.711\n",
      "INFO:tensorflow:loss = 105132425000.0, step = 8301 (0.203 sec)\n",
      "INFO:tensorflow:global_step/sec: 448.33\n",
      "INFO:tensorflow:loss = 85127460000.0, step = 8401 (0.224 sec)\n",
      "INFO:tensorflow:global_step/sec: 457.743\n",
      "INFO:tensorflow:loss = 132046390000.0, step = 8501 (0.219 sec)\n",
      "INFO:tensorflow:global_step/sec: 472.507\n",
      "INFO:tensorflow:loss = 38766117000.0, step = 8601 (0.213 sec)\n",
      "INFO:tensorflow:global_step/sec: 461.177\n",
      "INFO:tensorflow:loss = 56942090000.0, step = 8701 (0.216 sec)\n",
      "INFO:tensorflow:global_step/sec: 450.026\n",
      "INFO:tensorflow:loss = 51089924000.0, step = 8801 (0.223 sec)\n",
      "INFO:tensorflow:global_step/sec: 454.668\n",
      "INFO:tensorflow:loss = 197966050000.0, step = 8901 (0.220 sec)\n",
      "INFO:tensorflow:global_step/sec: 396.221\n",
      "INFO:tensorflow:loss = 47728353000.0, step = 9001 (0.253 sec)\n",
      "INFO:tensorflow:global_step/sec: 446.116\n",
      "INFO:tensorflow:loss = 45951332000.0, step = 9101 (0.222 sec)\n",
      "INFO:tensorflow:global_step/sec: 492.302\n",
      "INFO:tensorflow:loss = 133262480000.0, step = 9201 (0.203 sec)\n",
      "INFO:tensorflow:global_step/sec: 477.047\n",
      "INFO:tensorflow:loss = 71094320000.0, step = 9301 (0.209 sec)\n",
      "INFO:tensorflow:global_step/sec: 494.374\n",
      "INFO:tensorflow:loss = 90146660000.0, step = 9401 (0.204 sec)\n",
      "INFO:tensorflow:global_step/sec: 474.947\n",
      "INFO:tensorflow:loss = 47113843000.0, step = 9501 (0.209 sec)\n",
      "INFO:tensorflow:global_step/sec: 467.008\n",
      "INFO:tensorflow:loss = 141932460000.0, step = 9601 (0.214 sec)\n",
      "INFO:tensorflow:global_step/sec: 502.267\n",
      "INFO:tensorflow:loss = 124229255000.0, step = 9701 (0.199 sec)\n",
      "INFO:tensorflow:global_step/sec: 489.973\n",
      "INFO:tensorflow:loss = 63136895000.0, step = 9801 (0.204 sec)\n",
      "INFO:tensorflow:global_step/sec: 469.521\n",
      "INFO:tensorflow:loss = 39376732000.0, step = 9901 (0.213 sec)\n",
      "INFO:tensorflow:global_step/sec: 509.967\n",
      "INFO:tensorflow:loss = 137116860000.0, step = 10001 (0.196 sec)\n",
      "INFO:tensorflow:global_step/sec: 493.16\n",
      "INFO:tensorflow:loss = 34337925000.0, step = 10101 (0.203 sec)\n",
      "INFO:tensorflow:global_step/sec: 474.035\n",
      "INFO:tensorflow:loss = 104543450000.0, step = 10201 (0.211 sec)\n",
      "INFO:tensorflow:global_step/sec: 520.292\n",
      "INFO:tensorflow:loss = 68853210000.0, step = 10301 (0.194 sec)\n",
      "INFO:tensorflow:global_step/sec: 466.735\n",
      "INFO:tensorflow:loss = 83597780000.0, step = 10401 (0.213 sec)\n",
      "INFO:tensorflow:global_step/sec: 487.173\n",
      "INFO:tensorflow:loss = 130891600000.0, step = 10501 (0.205 sec)\n",
      "INFO:tensorflow:global_step/sec: 493.08\n",
      "INFO:tensorflow:loss = 188444970000.0, step = 10601 (0.203 sec)\n",
      "INFO:tensorflow:global_step/sec: 490.839\n",
      "INFO:tensorflow:loss = 150761960000.0, step = 10701 (0.203 sec)\n",
      "INFO:tensorflow:global_step/sec: 475.694\n",
      "INFO:tensorflow:loss = 30108710000.0, step = 10801 (0.210 sec)\n",
      "INFO:tensorflow:global_step/sec: 489.407\n",
      "INFO:tensorflow:loss = 51307950000.0, step = 10901 (0.204 sec)\n",
      "INFO:tensorflow:global_step/sec: 511.247\n",
      "INFO:tensorflow:loss = 87819256000.0, step = 11001 (0.196 sec)\n",
      "INFO:tensorflow:global_step/sec: 450.989\n",
      "INFO:tensorflow:loss = 125761720000.0, step = 11101 (0.222 sec)\n",
      "INFO:tensorflow:global_step/sec: 459.413\n",
      "INFO:tensorflow:loss = 60706380000.0, step = 11201 (0.219 sec)\n",
      "INFO:tensorflow:global_step/sec: 462.434\n",
      "INFO:tensorflow:loss = 91425410000.0, step = 11301 (0.217 sec)\n",
      "INFO:tensorflow:global_step/sec: 473.474\n",
      "INFO:tensorflow:loss = 92952950000.0, step = 11401 (0.212 sec)\n",
      "INFO:tensorflow:global_step/sec: 483.615\n",
      "INFO:tensorflow:loss = 54881000000.0, step = 11501 (0.205 sec)\n",
      "INFO:tensorflow:global_step/sec: 479.324\n",
      "INFO:tensorflow:loss = 93362830000.0, step = 11601 (0.207 sec)\n",
      "INFO:tensorflow:global_step/sec: 470.697\n",
      "INFO:tensorflow:loss = 112826360000.0, step = 11701 (0.213 sec)\n",
      "INFO:tensorflow:global_step/sec: 497.092\n",
      "INFO:tensorflow:loss = 149593330000.0, step = 11801 (0.201 sec)\n",
      "INFO:tensorflow:global_step/sec: 474.958\n",
      "INFO:tensorflow:loss = 154669780000.0, step = 11901 (0.211 sec)\n",
      "INFO:tensorflow:global_step/sec: 475.102\n",
      "INFO:tensorflow:loss = 93541890000.0, step = 12001 (0.210 sec)\n",
      "INFO:tensorflow:global_step/sec: 502.174\n",
      "INFO:tensorflow:loss = 108008100000.0, step = 12101 (0.199 sec)\n",
      "INFO:tensorflow:global_step/sec: 494.394\n",
      "INFO:tensorflow:loss = 171458790000.0, step = 12201 (0.202 sec)\n",
      "INFO:tensorflow:global_step/sec: 456.783\n",
      "INFO:tensorflow:loss = 56633430000.0, step = 12301 (0.219 sec)\n",
      "INFO:tensorflow:global_step/sec: 487.934\n",
      "INFO:tensorflow:loss = 134043350000.0, step = 12401 (0.205 sec)\n",
      "INFO:tensorflow:global_step/sec: 491.379\n",
      "INFO:tensorflow:loss = 118395494000.0, step = 12501 (0.204 sec)\n",
      "INFO:tensorflow:global_step/sec: 479.713\n",
      "INFO:tensorflow:loss = 51337236000.0, step = 12601 (0.209 sec)\n",
      "INFO:tensorflow:global_step/sec: 484.738\n",
      "INFO:tensorflow:loss = 134728770000.0, step = 12701 (0.206 sec)\n",
      "INFO:tensorflow:global_step/sec: 485.126\n",
      "INFO:tensorflow:loss = 59504357000.0, step = 12801 (0.207 sec)\n",
      "INFO:tensorflow:global_step/sec: 499.535\n",
      "INFO:tensorflow:loss = 174288040000.0, step = 12901 (0.203 sec)\n",
      "INFO:tensorflow:global_step/sec: 487.983\n",
      "INFO:tensorflow:loss = 70698060000.0, step = 13001 (0.202 sec)\n",
      "INFO:tensorflow:global_step/sec: 465.407\n",
      "INFO:tensorflow:loss = 156179730000.0, step = 13101 (0.215 sec)\n",
      "INFO:tensorflow:global_step/sec: 456.525\n",
      "INFO:tensorflow:loss = 62171914000.0, step = 13201 (0.218 sec)\n",
      "INFO:tensorflow:global_step/sec: 453.912\n",
      "INFO:tensorflow:loss = 59254194000.0, step = 13301 (0.220 sec)\n",
      "INFO:tensorflow:global_step/sec: 431.17\n",
      "INFO:tensorflow:loss = 57542040000.0, step = 13401 (0.232 sec)\n",
      "INFO:tensorflow:global_step/sec: 467.059\n",
      "INFO:tensorflow:loss = 82281440000.0, step = 13501 (0.214 sec)\n",
      "INFO:tensorflow:global_step/sec: 442.754\n",
      "INFO:tensorflow:loss = 153052760000.0, step = 13601 (0.226 sec)\n",
      "INFO:tensorflow:global_step/sec: 428.557\n",
      "INFO:tensorflow:loss = 44759646000.0, step = 13701 (0.235 sec)\n",
      "INFO:tensorflow:global_step/sec: 427.403\n",
      "INFO:tensorflow:loss = 106090200000.0, step = 13801 (0.233 sec)\n",
      "INFO:tensorflow:global_step/sec: 431.036\n",
      "INFO:tensorflow:loss = 80662330000.0, step = 13901 (0.232 sec)\n",
      "INFO:tensorflow:global_step/sec: 406.804\n",
      "INFO:tensorflow:loss = 78034790000.0, step = 14001 (0.246 sec)\n",
      "INFO:tensorflow:global_step/sec: 377.169\n",
      "INFO:tensorflow:loss = 87297200000.0, step = 14101 (0.265 sec)\n",
      "INFO:tensorflow:global_step/sec: 422.624\n",
      "INFO:tensorflow:loss = 170355600000.0, step = 14201 (0.237 sec)\n",
      "INFO:tensorflow:global_step/sec: 461.704\n",
      "INFO:tensorflow:loss = 99225730000.0, step = 14301 (0.220 sec)\n",
      "INFO:tensorflow:global_step/sec: 450.574\n",
      "INFO:tensorflow:loss = 82512770000.0, step = 14401 (0.218 sec)\n",
      "INFO:tensorflow:global_step/sec: 404.235\n",
      "INFO:tensorflow:loss = 66626620000.0, step = 14501 (0.247 sec)\n",
      "INFO:tensorflow:global_step/sec: 450.011\n",
      "INFO:tensorflow:loss = 217675370000.0, step = 14601 (0.222 sec)\n",
      "INFO:tensorflow:global_step/sec: 430.518\n",
      "INFO:tensorflow:loss = 111781580000.0, step = 14701 (0.232 sec)\n",
      "INFO:tensorflow:global_step/sec: 453.422\n",
      "INFO:tensorflow:loss = 178266140000.0, step = 14801 (0.224 sec)\n",
      "INFO:tensorflow:global_step/sec: 461.385\n",
      "INFO:tensorflow:loss = 32244822000.0, step = 14901 (0.213 sec)\n",
      "INFO:tensorflow:global_step/sec: 470.15\n",
      "INFO:tensorflow:loss = 108195365000.0, step = 15001 (0.213 sec)\n",
      "INFO:tensorflow:global_step/sec: 403.185\n",
      "INFO:tensorflow:loss = 63492780000.0, step = 15101 (0.248 sec)\n",
      "INFO:tensorflow:global_step/sec: 445.242\n",
      "INFO:tensorflow:loss = 34310120000.0, step = 15201 (0.225 sec)\n",
      "INFO:tensorflow:global_step/sec: 435.9\n",
      "INFO:tensorflow:loss = 59859700000.0, step = 15301 (0.229 sec)\n",
      "INFO:tensorflow:global_step/sec: 457.409\n",
      "INFO:tensorflow:loss = 54597450000.0, step = 15401 (0.221 sec)\n",
      "INFO:tensorflow:global_step/sec: 458.819\n",
      "INFO:tensorflow:loss = 52680040000.0, step = 15501 (0.218 sec)\n"
     ]
    },
    {
     "name": "stdout",
     "output_type": "stream",
     "text": [
      "INFO:tensorflow:global_step/sec: 464.479\n",
      "INFO:tensorflow:loss = 67504650000.0, step = 15601 (0.215 sec)\n",
      "INFO:tensorflow:global_step/sec: 460.257\n",
      "INFO:tensorflow:loss = 53333987000.0, step = 15701 (0.215 sec)\n",
      "INFO:tensorflow:global_step/sec: 443.758\n",
      "INFO:tensorflow:loss = 118037350000.0, step = 15801 (0.226 sec)\n",
      "INFO:tensorflow:global_step/sec: 466.29\n",
      "INFO:tensorflow:loss = 98757770000.0, step = 15901 (0.214 sec)\n",
      "INFO:tensorflow:global_step/sec: 478.688\n",
      "INFO:tensorflow:loss = 52699718000.0, step = 16001 (0.209 sec)\n",
      "INFO:tensorflow:global_step/sec: 503.006\n",
      "INFO:tensorflow:loss = 127176390000.0, step = 16101 (0.199 sec)\n",
      "INFO:tensorflow:global_step/sec: 505.6\n",
      "INFO:tensorflow:loss = 50313396000.0, step = 16201 (0.198 sec)\n",
      "INFO:tensorflow:global_step/sec: 483.796\n",
      "INFO:tensorflow:loss = 78787040000.0, step = 16301 (0.206 sec)\n",
      "INFO:tensorflow:global_step/sec: 476.572\n",
      "INFO:tensorflow:loss = 60810936000.0, step = 16401 (0.210 sec)\n",
      "INFO:tensorflow:global_step/sec: 455.568\n",
      "INFO:tensorflow:loss = 75342130000.0, step = 16501 (0.220 sec)\n",
      "INFO:tensorflow:global_step/sec: 505.794\n",
      "INFO:tensorflow:loss = 123624550000.0, step = 16601 (0.200 sec)\n",
      "INFO:tensorflow:global_step/sec: 475.295\n",
      "INFO:tensorflow:loss = 37606610000.0, step = 16701 (0.208 sec)\n",
      "INFO:tensorflow:global_step/sec: 481.086\n",
      "INFO:tensorflow:loss = 63276167000.0, step = 16801 (0.208 sec)\n",
      "INFO:tensorflow:global_step/sec: 478.05\n",
      "INFO:tensorflow:loss = 113027090000.0, step = 16901 (0.209 sec)\n",
      "INFO:tensorflow:global_step/sec: 501.94\n",
      "INFO:tensorflow:loss = 36599685000.0, step = 17001 (0.199 sec)\n",
      "INFO:tensorflow:global_step/sec: 463.833\n",
      "INFO:tensorflow:loss = 73785780000.0, step = 17101 (0.216 sec)\n",
      "INFO:tensorflow:global_step/sec: 476.39\n",
      "INFO:tensorflow:loss = 162313540000.0, step = 17201 (0.209 sec)\n",
      "INFO:tensorflow:global_step/sec: 462.182\n",
      "INFO:tensorflow:loss = 81551140000.0, step = 17301 (0.217 sec)\n",
      "INFO:tensorflow:global_step/sec: 474.771\n",
      "INFO:tensorflow:loss = 105999520000.0, step = 17401 (0.210 sec)\n",
      "INFO:tensorflow:global_step/sec: 450.668\n",
      "INFO:tensorflow:loss = 65114956000.0, step = 17501 (0.223 sec)\n",
      "INFO:tensorflow:global_step/sec: 450.558\n",
      "INFO:tensorflow:loss = 58822180000.0, step = 17601 (0.221 sec)\n",
      "INFO:tensorflow:global_step/sec: 496.645\n",
      "INFO:tensorflow:loss = 32668783000.0, step = 17701 (0.201 sec)\n",
      "INFO:tensorflow:global_step/sec: 467.548\n",
      "INFO:tensorflow:loss = 88243320000.0, step = 17801 (0.214 sec)\n",
      "INFO:tensorflow:global_step/sec: 481.422\n",
      "INFO:tensorflow:loss = 93655745000.0, step = 17901 (0.209 sec)\n",
      "INFO:tensorflow:global_step/sec: 494.103\n",
      "INFO:tensorflow:loss = 95604390000.0, step = 18001 (0.201 sec)\n",
      "INFO:tensorflow:global_step/sec: 458.149\n",
      "INFO:tensorflow:loss = 109930290000.0, step = 18101 (0.218 sec)\n",
      "INFO:tensorflow:global_step/sec: 457.222\n",
      "INFO:tensorflow:loss = 147335070000.0, step = 18201 (0.218 sec)\n",
      "INFO:tensorflow:global_step/sec: 491.267\n",
      "INFO:tensorflow:loss = 100474990000.0, step = 18301 (0.203 sec)\n",
      "INFO:tensorflow:global_step/sec: 483.601\n",
      "INFO:tensorflow:loss = 32624312000.0, step = 18401 (0.207 sec)\n",
      "INFO:tensorflow:global_step/sec: 455.861\n",
      "INFO:tensorflow:loss = 103452110000.0, step = 18501 (0.220 sec)\n",
      "INFO:tensorflow:global_step/sec: 476.783\n",
      "INFO:tensorflow:loss = 85492270000.0, step = 18601 (0.210 sec)\n",
      "INFO:tensorflow:global_step/sec: 467.119\n",
      "INFO:tensorflow:loss = 122725270000.0, step = 18701 (0.214 sec)\n",
      "INFO:tensorflow:global_step/sec: 449.54\n",
      "INFO:tensorflow:loss = 113289140000.0, step = 18801 (0.223 sec)\n",
      "INFO:tensorflow:global_step/sec: 484.412\n",
      "INFO:tensorflow:loss = 146564710000.0, step = 18901 (0.206 sec)\n",
      "INFO:tensorflow:global_step/sec: 462.791\n",
      "INFO:tensorflow:loss = 59599876000.0, step = 19001 (0.216 sec)\n",
      "INFO:tensorflow:global_step/sec: 488.692\n",
      "INFO:tensorflow:loss = 68297834000.0, step = 19101 (0.206 sec)\n",
      "INFO:tensorflow:global_step/sec: 481.856\n",
      "INFO:tensorflow:loss = 82902710000.0, step = 19201 (0.206 sec)\n",
      "INFO:tensorflow:global_step/sec: 476.322\n",
      "INFO:tensorflow:loss = 127527420000.0, step = 19301 (0.210 sec)\n",
      "INFO:tensorflow:global_step/sec: 457.691\n",
      "INFO:tensorflow:loss = 138927640000.0, step = 19401 (0.218 sec)\n",
      "INFO:tensorflow:global_step/sec: 486.164\n",
      "INFO:tensorflow:loss = 45267830000.0, step = 19501 (0.210 sec)\n",
      "INFO:tensorflow:global_step/sec: 472.889\n",
      "INFO:tensorflow:loss = 43748040000.0, step = 19601 (0.211 sec)\n",
      "INFO:tensorflow:global_step/sec: 483.524\n",
      "INFO:tensorflow:loss = 102976030000.0, step = 19701 (0.206 sec)\n",
      "INFO:tensorflow:global_step/sec: 472.503\n",
      "INFO:tensorflow:loss = 96280210000.0, step = 19801 (0.209 sec)\n",
      "INFO:tensorflow:global_step/sec: 469.582\n",
      "INFO:tensorflow:loss = 69967710000.0, step = 19901 (0.213 sec)\n",
      "INFO:tensorflow:global_step/sec: 464.24\n",
      "INFO:tensorflow:loss = 84347430000.0, step = 20001 (0.216 sec)\n",
      "INFO:tensorflow:global_step/sec: 475.218\n",
      "INFO:tensorflow:loss = 115083870000.0, step = 20101 (0.210 sec)\n",
      "INFO:tensorflow:global_step/sec: 496.609\n",
      "INFO:tensorflow:loss = 103678935000.0, step = 20201 (0.202 sec)\n",
      "INFO:tensorflow:global_step/sec: 468.538\n",
      "INFO:tensorflow:loss = 69671330000.0, step = 20301 (0.213 sec)\n",
      "INFO:tensorflow:global_step/sec: 455.456\n",
      "INFO:tensorflow:loss = 66993783000.0, step = 20401 (0.220 sec)\n",
      "INFO:tensorflow:global_step/sec: 463.008\n",
      "INFO:tensorflow:loss = 71072710000.0, step = 20501 (0.216 sec)\n",
      "INFO:tensorflow:global_step/sec: 472.472\n",
      "INFO:tensorflow:loss = 97078050000.0, step = 20601 (0.212 sec)\n",
      "INFO:tensorflow:global_step/sec: 471.394\n",
      "INFO:tensorflow:loss = 60917146000.0, step = 20701 (0.212 sec)\n",
      "INFO:tensorflow:global_step/sec: 452.702\n",
      "INFO:tensorflow:loss = 151856320000.0, step = 20801 (0.221 sec)\n",
      "INFO:tensorflow:global_step/sec: 464.289\n",
      "INFO:tensorflow:loss = 42449920000.0, step = 20901 (0.218 sec)\n",
      "INFO:tensorflow:global_step/sec: 502.823\n",
      "INFO:tensorflow:loss = 60092990000.0, step = 21001 (0.199 sec)\n",
      "INFO:tensorflow:global_step/sec: 454.943\n",
      "INFO:tensorflow:loss = 82724250000.0, step = 21101 (0.217 sec)\n",
      "INFO:tensorflow:global_step/sec: 469.181\n",
      "INFO:tensorflow:loss = 70996370000.0, step = 21201 (0.213 sec)\n",
      "INFO:tensorflow:global_step/sec: 471.543\n",
      "INFO:tensorflow:loss = 148321170000.0, step = 21301 (0.212 sec)\n",
      "INFO:tensorflow:global_step/sec: 481.053\n",
      "INFO:tensorflow:loss = 92335325000.0, step = 21401 (0.208 sec)\n",
      "INFO:tensorflow:global_step/sec: 453.985\n",
      "INFO:tensorflow:loss = 84729320000.0, step = 21501 (0.221 sec)\n",
      "INFO:tensorflow:global_step/sec: 487.804\n",
      "INFO:tensorflow:loss = 84685130000.0, step = 21601 (0.204 sec)\n",
      "INFO:tensorflow:global_step/sec: 465.224\n",
      "INFO:tensorflow:loss = 75267280000.0, step = 21701 (0.215 sec)\n",
      "INFO:tensorflow:global_step/sec: 489.56\n",
      "INFO:tensorflow:loss = 62023620000.0, step = 21801 (0.204 sec)\n",
      "INFO:tensorflow:global_step/sec: 474.107\n",
      "INFO:tensorflow:loss = 87364610000.0, step = 21901 (0.211 sec)\n",
      "INFO:tensorflow:global_step/sec: 471.016\n",
      "INFO:tensorflow:loss = 184970250000.0, step = 22001 (0.212 sec)\n",
      "INFO:tensorflow:global_step/sec: 484.01\n",
      "INFO:tensorflow:loss = 60821377000.0, step = 22101 (0.206 sec)\n",
      "INFO:tensorflow:global_step/sec: 480.079\n",
      "INFO:tensorflow:loss = 80953760000.0, step = 22201 (0.209 sec)\n",
      "INFO:tensorflow:global_step/sec: 474.471\n",
      "INFO:tensorflow:loss = 189130700000.0, step = 22301 (0.211 sec)\n",
      "INFO:tensorflow:global_step/sec: 468.178\n",
      "INFO:tensorflow:loss = 111563930000.0, step = 22401 (0.214 sec)\n",
      "INFO:tensorflow:global_step/sec: 488.511\n",
      "INFO:tensorflow:loss = 164163350000.0, step = 22501 (0.205 sec)\n",
      "INFO:tensorflow:global_step/sec: 490.833\n",
      "INFO:tensorflow:loss = 76309500000.0, step = 22601 (0.203 sec)\n",
      "INFO:tensorflow:global_step/sec: 491.855\n",
      "INFO:tensorflow:loss = 21187914000.0, step = 22701 (0.204 sec)\n",
      "INFO:tensorflow:global_step/sec: 479.343\n",
      "INFO:tensorflow:loss = 99587470000.0, step = 22801 (0.209 sec)\n",
      "INFO:tensorflow:global_step/sec: 485.243\n",
      "INFO:tensorflow:loss = 106860904000.0, step = 22901 (0.206 sec)\n",
      "INFO:tensorflow:global_step/sec: 477.494\n",
      "INFO:tensorflow:loss = 104199586000.0, step = 23001 (0.210 sec)\n",
      "INFO:tensorflow:global_step/sec: 484.66\n",
      "INFO:tensorflow:loss = 27908600000.0, step = 23101 (0.206 sec)\n",
      "INFO:tensorflow:global_step/sec: 489.475\n",
      "INFO:tensorflow:loss = 68957810000.0, step = 23201 (0.204 sec)\n",
      "INFO:tensorflow:global_step/sec: 480.03\n",
      "INFO:tensorflow:loss = 92282880000.0, step = 23301 (0.209 sec)\n",
      "INFO:tensorflow:global_step/sec: 490.585\n",
      "INFO:tensorflow:loss = 103916134000.0, step = 23401 (0.204 sec)\n"
     ]
    },
    {
     "name": "stdout",
     "output_type": "stream",
     "text": [
      "INFO:tensorflow:global_step/sec: 484.915\n",
      "INFO:tensorflow:loss = 27122960000.0, step = 23501 (0.207 sec)\n",
      "INFO:tensorflow:global_step/sec: 494.406\n",
      "INFO:tensorflow:loss = 40945630000.0, step = 23601 (0.202 sec)\n",
      "INFO:tensorflow:global_step/sec: 484.473\n",
      "INFO:tensorflow:loss = 115209240000.0, step = 23701 (0.207 sec)\n",
      "INFO:tensorflow:global_step/sec: 479.242\n",
      "INFO:tensorflow:loss = 121975914000.0, step = 23801 (0.211 sec)\n",
      "INFO:tensorflow:global_step/sec: 479.71\n",
      "INFO:tensorflow:loss = 70816650000.0, step = 23901 (0.206 sec)\n",
      "INFO:tensorflow:global_step/sec: 468.092\n",
      "INFO:tensorflow:loss = 35093090000.0, step = 24001 (0.214 sec)\n",
      "INFO:tensorflow:global_step/sec: 465.389\n",
      "INFO:tensorflow:loss = 94001500000.0, step = 24101 (0.215 sec)\n",
      "INFO:tensorflow:global_step/sec: 476.036\n",
      "INFO:tensorflow:loss = 66760122000.0, step = 24201 (0.210 sec)\n",
      "INFO:tensorflow:global_step/sec: 481.633\n",
      "INFO:tensorflow:loss = 68100030000.0, step = 24301 (0.208 sec)\n",
      "INFO:tensorflow:global_step/sec: 494.847\n",
      "INFO:tensorflow:loss = 110301580000.0, step = 24401 (0.202 sec)\n",
      "INFO:tensorflow:global_step/sec: 491.209\n",
      "INFO:tensorflow:loss = 198728880000.0, step = 24501 (0.203 sec)\n",
      "INFO:tensorflow:global_step/sec: 508.58\n",
      "INFO:tensorflow:loss = 25289415000.0, step = 24601 (0.197 sec)\n",
      "INFO:tensorflow:global_step/sec: 509.541\n",
      "INFO:tensorflow:loss = 68663150000.0, step = 24701 (0.196 sec)\n",
      "INFO:tensorflow:global_step/sec: 510.642\n",
      "INFO:tensorflow:loss = 39701390000.0, step = 24801 (0.196 sec)\n",
      "INFO:tensorflow:global_step/sec: 466.612\n",
      "INFO:tensorflow:loss = 54879044000.0, step = 24901 (0.214 sec)\n",
      "INFO:tensorflow:Saving checkpoints for 25000 into /var/folders/28/6fl1s6897q17ww4ypjgd5p540000gn/T/tmp30c08o5z/model.ckpt.\n",
      "INFO:tensorflow:Loss for final step: 58813276000.0.\n"
     ]
    },
    {
     "data": {
      "text/plain": [
       "<tensorflow.python.estimator.canned.dnn.DNNRegressor at 0x1a25c5ecf8>"
      ]
     },
     "execution_count": 140,
     "metadata": {},
     "output_type": "execute_result"
    }
   ],
   "source": [
    "estimator.train(input_fn=input_fn, steps=25000)"
   ]
  },
  {
   "cell_type": "markdown",
   "metadata": {},
   "source": [
    "** Create a prediction input function and then use the .predict method off your estimator model to create a list or predictions on your test data. **"
   ]
  },
  {
   "cell_type": "code",
   "execution_count": 141,
   "metadata": {},
   "outputs": [],
   "source": [
    "pred_input_fn = tf.estimator.inputs.pandas_input_fn(x=X_test, batch_size=10, num_epochs=1, shuffle=False)"
   ]
  },
  {
   "cell_type": "code",
   "execution_count": 142,
   "metadata": {},
   "outputs": [],
   "source": [
    "pred_generator = estimator.predict(pred_input_fn)"
   ]
  },
  {
   "cell_type": "code",
   "execution_count": 143,
   "metadata": {},
   "outputs": [
    {
     "name": "stdout",
     "output_type": "stream",
     "text": [
      "INFO:tensorflow:Calling model_fn.\n",
      "INFO:tensorflow:Done calling model_fn.\n",
      "INFO:tensorflow:Graph was finalized.\n",
      "INFO:tensorflow:Restoring parameters from /var/folders/28/6fl1s6897q17ww4ypjgd5p540000gn/T/tmp30c08o5z/model.ckpt-25000\n",
      "INFO:tensorflow:Running local_init_op.\n",
      "INFO:tensorflow:Done running local_init_op.\n"
     ]
    }
   ],
   "source": [
    "predictions = list(pred_generator)"
   ]
  },
  {
   "cell_type": "markdown",
   "metadata": {},
   "source": [
    "** Calculate the RMSE. You should be able to get around 100,000 RMSE (remember that this is in the same units as the label.) Do this manually or use [sklearn.metrics](http://scikit-learn.org/stable/modules/generated/sklearn.metrics.mean_squared_error.html) **"
   ]
  },
  {
   "cell_type": "code",
   "execution_count": 144,
   "metadata": {},
   "outputs": [],
   "source": [
    "final_preds = []\n",
    "for pred in predictions:\n",
    "    final_preds.append(pred['predictions'])"
   ]
  },
  {
   "cell_type": "code",
   "execution_count": 145,
   "metadata": {},
   "outputs": [],
   "source": [
    "from sklearn.metrics import mean_squared_error"
   ]
  },
  {
   "cell_type": "code",
   "execution_count": 146,
   "metadata": {},
   "outputs": [],
   "source": [
    "rmse = mean_squared_error(y_test, final_preds) ** 0.5"
   ]
  },
  {
   "cell_type": "code",
   "execution_count": 147,
   "metadata": {},
   "outputs": [
    {
     "data": {
      "text/plain": [
       "94535.99934603002"
      ]
     },
     "execution_count": 147,
     "metadata": {},
     "output_type": "execute_result"
    }
   ],
   "source": [
    "rmse"
   ]
  },
  {
   "cell_type": "markdown",
   "metadata": {},
   "source": [
    "# Great Job!"
   ]
  }
 ],
 "metadata": {
  "kernelspec": {
   "display_name": "Python 3",
   "language": "python",
   "name": "python3"
  },
  "language_info": {
   "codemirror_mode": {
    "name": "ipython",
    "version": 3
   },
   "file_extension": ".py",
   "mimetype": "text/x-python",
   "name": "python",
   "nbconvert_exporter": "python",
   "pygments_lexer": "ipython3",
   "version": "3.6.4"
  }
 },
 "nbformat": 4,
 "nbformat_minor": 2
}
